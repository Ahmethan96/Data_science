{
  "nbformat": 4,
  "nbformat_minor": 0,
  "metadata": {
    "colab": {
      "provenance": [],
      "authorship_tag": "ABX9TyM6iPsYSyxVOliFLDvi2nlM",
      "include_colab_link": true
    },
    "kernelspec": {
      "name": "python3",
      "display_name": "Python 3"
    },
    "language_info": {
      "name": "python"
    }
  },
  "cells": [
    {
      "cell_type": "markdown",
      "metadata": {
        "id": "view-in-github",
        "colab_type": "text"
      },
      "source": [
        "<a href=\"https://colab.research.google.com/github/Ahmethan96/Data_science/blob/main/Energy_analysis_of_wind_turbine_using_LSTM.ipynb\" target=\"_parent\"><img src=\"https://colab.research.google.com/assets/colab-badge.svg\" alt=\"Open In Colab\"/></a>"
      ]
    },
    {
      "cell_type": "code",
      "execution_count": 98,
      "metadata": {
        "id": "2QF-8xhNnkBk"
      },
      "outputs": [],
      "source": [
        "from math import sqrt\n",
        "from numpy import concatenate\n",
        "from matplotlib import pyplot\n",
        "import pandas as pd\n",
        "from datetime import datetime\n",
        "from sklearn.preprocessing import MinMaxScaler\n",
        "from sklearn.preprocessing import LabelEncoder\n",
        "from sklearn.metrics import mean_squared_error\n",
        "import numpy as np\n",
        "import seaborn as sns\n",
        "from keras.models import Sequential\n",
        "from keras.layers import Dense\n",
        "from keras.layers import LSTM\n",
        "import glob\n",
        "from datetime import datetime\n",
        "%matplotlib inline"
      ]
    },
    {
      "cell_type": "code",
      "source": [
        "from google.colab import drive\n",
        "drive.mount('/content/drive')"
      ],
      "metadata": {
        "colab": {
          "base_uri": "https://localhost:8080/"
        },
        "id": "f2GLKg26JIJO",
        "outputId": "e4c04d8f-a6f2-4207-9018-0d972239bc64"
      },
      "execution_count": 99,
      "outputs": [
        {
          "output_type": "stream",
          "name": "stdout",
          "text": [
            "Drive already mounted at /content/drive; to attempt to forcibly remount, call drive.mount(\"/content/drive\", force_remount=True).\n"
          ]
        }
      ]
    },
    {
      "cell_type": "code",
      "source": [
        "!pwd"
      ],
      "metadata": {
        "colab": {
          "base_uri": "https://localhost:8080/"
        },
        "id": "N3Zb4WlkS7Pw",
        "outputId": "35462005-f5d8-4619-9a74-0acff038c865"
      },
      "execution_count": 100,
      "outputs": [
        {
          "output_type": "stream",
          "name": "stdout",
          "text": [
            "/content\n"
          ]
        }
      ]
    },
    {
      "cell_type": "code",
      "source": [
        "data_frame = pd.read_excel('/AL_WIND_07_12.xlsx', index_col= 'DateTime')\n",
        "data_frame.head(10)"
      ],
      "metadata": {
        "colab": {
          "base_uri": "https://localhost:8080/",
          "height": 394
        },
        "id": "NLYjzpPzJVD-",
        "outputId": "140de272-dde0-4d2e-d9e6-32501cb3b5f2"
      },
      "execution_count": 101,
      "outputs": [
        {
          "output_type": "execute_result",
          "data": {
            "text/plain": [
              "                     Air temperature | ('C)  Pressure | (atm)  \\\n",
              "DateTime                                                        \n",
              "2007-01-01 00:00:00                  10.926          0.979103   \n",
              "2007-01-01 01:00:00                   9.919          0.979566   \n",
              "2007-01-01 02:00:00                   8.567          0.979937   \n",
              "2007-01-01 03:00:00                   7.877          0.980053   \n",
              "2007-01-01 04:00:00                   7.259          0.979867   \n",
              "2007-01-01 05:00:00                   6.570          0.979884   \n",
              "2007-01-01 06:00:00                   5.897          0.980318   \n",
              "2007-01-01 07:00:00                   5.109          0.980597   \n",
              "2007-01-01 08:00:00                   4.413          0.980711   \n",
              "2007-01-01 09:00:00                   3.754          0.980902   \n",
              "\n",
              "                     Wind speed | (m/s)  Wind direction | (deg)  \\\n",
              "DateTime                                                          \n",
              "2007-01-01 00:00:00               9.014                     229   \n",
              "2007-01-01 01:00:00               9.428                     232   \n",
              "2007-01-01 02:00:00               8.700                     236   \n",
              "2007-01-01 03:00:00               8.481                     247   \n",
              "2007-01-01 04:00:00               8.383                     256   \n",
              "2007-01-01 05:00:00               8.256                     261   \n",
              "2007-01-01 06:00:00               6.476                     265   \n",
              "2007-01-01 07:00:00               5.906                     271   \n",
              "2007-01-01 08:00:00               5.557                     269   \n",
              "2007-01-01 09:00:00               6.081                     273   \n",
              "\n",
              "                     Power generated by system | (kW)  \n",
              "DateTime                                               \n",
              "2007-01-01 00:00:00                          33688.10  \n",
              "2007-01-01 01:00:00                          37261.90  \n",
              "2007-01-01 02:00:00                          30502.90  \n",
              "2007-01-01 03:00:00                          28419.20  \n",
              "2007-01-01 04:00:00                          27370.30  \n",
              "2007-01-01 05:00:00                          25805.90  \n",
              "2007-01-01 06:00:00                          11546.80  \n",
              "2007-01-01 07:00:00                           8360.76  \n",
              "2007-01-01 08:00:00                           6426.64  \n",
              "2007-01-01 09:00:00                           9349.45  "
            ],
            "text/html": [
              "\n",
              "\n",
              "  <div id=\"df-93bb401f-6ca4-4521-a672-7cfe300efb1e\">\n",
              "    <div class=\"colab-df-container\">\n",
              "      <div>\n",
              "<style scoped>\n",
              "    .dataframe tbody tr th:only-of-type {\n",
              "        vertical-align: middle;\n",
              "    }\n",
              "\n",
              "    .dataframe tbody tr th {\n",
              "        vertical-align: top;\n",
              "    }\n",
              "\n",
              "    .dataframe thead th {\n",
              "        text-align: right;\n",
              "    }\n",
              "</style>\n",
              "<table border=\"1\" class=\"dataframe\">\n",
              "  <thead>\n",
              "    <tr style=\"text-align: right;\">\n",
              "      <th></th>\n",
              "      <th>Air temperature | ('C)</th>\n",
              "      <th>Pressure | (atm)</th>\n",
              "      <th>Wind speed | (m/s)</th>\n",
              "      <th>Wind direction | (deg)</th>\n",
              "      <th>Power generated by system | (kW)</th>\n",
              "    </tr>\n",
              "    <tr>\n",
              "      <th>DateTime</th>\n",
              "      <th></th>\n",
              "      <th></th>\n",
              "      <th></th>\n",
              "      <th></th>\n",
              "      <th></th>\n",
              "    </tr>\n",
              "  </thead>\n",
              "  <tbody>\n",
              "    <tr>\n",
              "      <th>2007-01-01 00:00:00</th>\n",
              "      <td>10.926</td>\n",
              "      <td>0.979103</td>\n",
              "      <td>9.014</td>\n",
              "      <td>229</td>\n",
              "      <td>33688.10</td>\n",
              "    </tr>\n",
              "    <tr>\n",
              "      <th>2007-01-01 01:00:00</th>\n",
              "      <td>9.919</td>\n",
              "      <td>0.979566</td>\n",
              "      <td>9.428</td>\n",
              "      <td>232</td>\n",
              "      <td>37261.90</td>\n",
              "    </tr>\n",
              "    <tr>\n",
              "      <th>2007-01-01 02:00:00</th>\n",
              "      <td>8.567</td>\n",
              "      <td>0.979937</td>\n",
              "      <td>8.700</td>\n",
              "      <td>236</td>\n",
              "      <td>30502.90</td>\n",
              "    </tr>\n",
              "    <tr>\n",
              "      <th>2007-01-01 03:00:00</th>\n",
              "      <td>7.877</td>\n",
              "      <td>0.980053</td>\n",
              "      <td>8.481</td>\n",
              "      <td>247</td>\n",
              "      <td>28419.20</td>\n",
              "    </tr>\n",
              "    <tr>\n",
              "      <th>2007-01-01 04:00:00</th>\n",
              "      <td>7.259</td>\n",
              "      <td>0.979867</td>\n",
              "      <td>8.383</td>\n",
              "      <td>256</td>\n",
              "      <td>27370.30</td>\n",
              "    </tr>\n",
              "    <tr>\n",
              "      <th>2007-01-01 05:00:00</th>\n",
              "      <td>6.570</td>\n",
              "      <td>0.979884</td>\n",
              "      <td>8.256</td>\n",
              "      <td>261</td>\n",
              "      <td>25805.90</td>\n",
              "    </tr>\n",
              "    <tr>\n",
              "      <th>2007-01-01 06:00:00</th>\n",
              "      <td>5.897</td>\n",
              "      <td>0.980318</td>\n",
              "      <td>6.476</td>\n",
              "      <td>265</td>\n",
              "      <td>11546.80</td>\n",
              "    </tr>\n",
              "    <tr>\n",
              "      <th>2007-01-01 07:00:00</th>\n",
              "      <td>5.109</td>\n",
              "      <td>0.980597</td>\n",
              "      <td>5.906</td>\n",
              "      <td>271</td>\n",
              "      <td>8360.76</td>\n",
              "    </tr>\n",
              "    <tr>\n",
              "      <th>2007-01-01 08:00:00</th>\n",
              "      <td>4.413</td>\n",
              "      <td>0.980711</td>\n",
              "      <td>5.557</td>\n",
              "      <td>269</td>\n",
              "      <td>6426.64</td>\n",
              "    </tr>\n",
              "    <tr>\n",
              "      <th>2007-01-01 09:00:00</th>\n",
              "      <td>3.754</td>\n",
              "      <td>0.980902</td>\n",
              "      <td>6.081</td>\n",
              "      <td>273</td>\n",
              "      <td>9349.45</td>\n",
              "    </tr>\n",
              "  </tbody>\n",
              "</table>\n",
              "</div>\n",
              "      <button class=\"colab-df-convert\" onclick=\"convertToInteractive('df-93bb401f-6ca4-4521-a672-7cfe300efb1e')\"\n",
              "              title=\"Convert this dataframe to an interactive table.\"\n",
              "              style=\"display:none;\">\n",
              "\n",
              "  <svg xmlns=\"http://www.w3.org/2000/svg\" height=\"24px\"viewBox=\"0 0 24 24\"\n",
              "       width=\"24px\">\n",
              "    <path d=\"M0 0h24v24H0V0z\" fill=\"none\"/>\n",
              "    <path d=\"M18.56 5.44l.94 2.06.94-2.06 2.06-.94-2.06-.94-.94-2.06-.94 2.06-2.06.94zm-11 1L8.5 8.5l.94-2.06 2.06-.94-2.06-.94L8.5 2.5l-.94 2.06-2.06.94zm10 10l.94 2.06.94-2.06 2.06-.94-2.06-.94-.94-2.06-.94 2.06-2.06.94z\"/><path d=\"M17.41 7.96l-1.37-1.37c-.4-.4-.92-.59-1.43-.59-.52 0-1.04.2-1.43.59L10.3 9.45l-7.72 7.72c-.78.78-.78 2.05 0 2.83L4 21.41c.39.39.9.59 1.41.59.51 0 1.02-.2 1.41-.59l7.78-7.78 2.81-2.81c.8-.78.8-2.07 0-2.86zM5.41 20L4 18.59l7.72-7.72 1.47 1.35L5.41 20z\"/>\n",
              "  </svg>\n",
              "      </button>\n",
              "\n",
              "\n",
              "\n",
              "    <div id=\"df-7ee4d769-c535-4a5f-989a-e5693cd6ba1b\">\n",
              "      <button class=\"colab-df-quickchart\" onclick=\"quickchart('df-7ee4d769-c535-4a5f-989a-e5693cd6ba1b')\"\n",
              "              title=\"Suggest charts.\"\n",
              "              style=\"display:none;\">\n",
              "\n",
              "<svg xmlns=\"http://www.w3.org/2000/svg\" height=\"24px\"viewBox=\"0 0 24 24\"\n",
              "     width=\"24px\">\n",
              "    <g>\n",
              "        <path d=\"M19 3H5c-1.1 0-2 .9-2 2v14c0 1.1.9 2 2 2h14c1.1 0 2-.9 2-2V5c0-1.1-.9-2-2-2zM9 17H7v-7h2v7zm4 0h-2V7h2v10zm4 0h-2v-4h2v4z\"/>\n",
              "    </g>\n",
              "</svg>\n",
              "      </button>\n",
              "    </div>\n",
              "\n",
              "<style>\n",
              "  .colab-df-quickchart {\n",
              "    background-color: #E8F0FE;\n",
              "    border: none;\n",
              "    border-radius: 50%;\n",
              "    cursor: pointer;\n",
              "    display: none;\n",
              "    fill: #1967D2;\n",
              "    height: 32px;\n",
              "    padding: 0 0 0 0;\n",
              "    width: 32px;\n",
              "  }\n",
              "\n",
              "  .colab-df-quickchart:hover {\n",
              "    background-color: #E2EBFA;\n",
              "    box-shadow: 0px 1px 2px rgba(60, 64, 67, 0.3), 0px 1px 3px 1px rgba(60, 64, 67, 0.15);\n",
              "    fill: #174EA6;\n",
              "  }\n",
              "\n",
              "  [theme=dark] .colab-df-quickchart {\n",
              "    background-color: #3B4455;\n",
              "    fill: #D2E3FC;\n",
              "  }\n",
              "\n",
              "  [theme=dark] .colab-df-quickchart:hover {\n",
              "    background-color: #434B5C;\n",
              "    box-shadow: 0px 1px 3px 1px rgba(0, 0, 0, 0.15);\n",
              "    filter: drop-shadow(0px 1px 2px rgba(0, 0, 0, 0.3));\n",
              "    fill: #FFFFFF;\n",
              "  }\n",
              "</style>\n",
              "\n",
              "    <script>\n",
              "      async function quickchart(key) {\n",
              "        const containerElement = document.querySelector('#' + key);\n",
              "        const charts = await google.colab.kernel.invokeFunction(\n",
              "            'suggestCharts', [key], {});\n",
              "      }\n",
              "    </script>\n",
              "\n",
              "      <script>\n",
              "\n",
              "function displayQuickchartButton(domScope) {\n",
              "  let quickchartButtonEl =\n",
              "    domScope.querySelector('#df-7ee4d769-c535-4a5f-989a-e5693cd6ba1b button.colab-df-quickchart');\n",
              "  quickchartButtonEl.style.display =\n",
              "    google.colab.kernel.accessAllowed ? 'block' : 'none';\n",
              "}\n",
              "\n",
              "        displayQuickchartButton(document);\n",
              "      </script>\n",
              "      <style>\n",
              "    .colab-df-container {\n",
              "      display:flex;\n",
              "      flex-wrap:wrap;\n",
              "      gap: 12px;\n",
              "    }\n",
              "\n",
              "    .colab-df-convert {\n",
              "      background-color: #E8F0FE;\n",
              "      border: none;\n",
              "      border-radius: 50%;\n",
              "      cursor: pointer;\n",
              "      display: none;\n",
              "      fill: #1967D2;\n",
              "      height: 32px;\n",
              "      padding: 0 0 0 0;\n",
              "      width: 32px;\n",
              "    }\n",
              "\n",
              "    .colab-df-convert:hover {\n",
              "      background-color: #E2EBFA;\n",
              "      box-shadow: 0px 1px 2px rgba(60, 64, 67, 0.3), 0px 1px 3px 1px rgba(60, 64, 67, 0.15);\n",
              "      fill: #174EA6;\n",
              "    }\n",
              "\n",
              "    [theme=dark] .colab-df-convert {\n",
              "      background-color: #3B4455;\n",
              "      fill: #D2E3FC;\n",
              "    }\n",
              "\n",
              "    [theme=dark] .colab-df-convert:hover {\n",
              "      background-color: #434B5C;\n",
              "      box-shadow: 0px 1px 3px 1px rgba(0, 0, 0, 0.15);\n",
              "      filter: drop-shadow(0px 1px 2px rgba(0, 0, 0, 0.3));\n",
              "      fill: #FFFFFF;\n",
              "    }\n",
              "  </style>\n",
              "\n",
              "      <script>\n",
              "        const buttonEl =\n",
              "          document.querySelector('#df-93bb401f-6ca4-4521-a672-7cfe300efb1e button.colab-df-convert');\n",
              "        buttonEl.style.display =\n",
              "          google.colab.kernel.accessAllowed ? 'block' : 'none';\n",
              "\n",
              "        async function convertToInteractive(key) {\n",
              "          const element = document.querySelector('#df-93bb401f-6ca4-4521-a672-7cfe300efb1e');\n",
              "          const dataTable =\n",
              "            await google.colab.kernel.invokeFunction('convertToInteractive',\n",
              "                                                     [key], {});\n",
              "          if (!dataTable) return;\n",
              "\n",
              "          const docLinkHtml = 'Like what you see? Visit the ' +\n",
              "            '<a target=\"_blank\" href=https://colab.research.google.com/notebooks/data_table.ipynb>data table notebook</a>'\n",
              "            + ' to learn more about interactive tables.';\n",
              "          element.innerHTML = '';\n",
              "          dataTable['output_type'] = 'display_data';\n",
              "          await google.colab.output.renderOutput(dataTable, element);\n",
              "          const docLink = document.createElement('div');\n",
              "          docLink.innerHTML = docLinkHtml;\n",
              "          element.appendChild(docLink);\n",
              "        }\n",
              "      </script>\n",
              "    </div>\n",
              "  </div>\n"
            ]
          },
          "metadata": {},
          "execution_count": 101
        }
      ]
    },
    {
      "cell_type": "markdown",
      "source": [
        "Setting an index in a DataFrame serves several important purposes in data analysis:\n",
        "\n",
        "Data Labeling: The index provides a way to uniquely label and identify rows in the DataFrame. It acts as a row identifier and allows for efficient and direct access to specific rows based on their index values.\n",
        "\n",
        "Enhanced Data Retrieval: Setting an index improves data retrieval performance, especially for large datasets. When an index is defined, Pandas can quickly locate and access rows based on index values, making data retrieval more efficient.\n",
        "\n",
        "Data Alignment: When performing operations between two DataFrames or when joining DataFrames, having a well-defined index ensures that data aligns correctly. Pandas aligns data based on the index, making it easier to combine and manipulate data from different sources.\n",
        "\n",
        "Time Series Data: For time series data, setting a datetime index allows for time-based operations, resampling, and slicing based on specific time periods.\n",
        "\n",
        "Grouping and Aggregating Data: An index can be used for grouping data based on specific criteria, and it allows for efficient data aggregation using functions like groupby.\n",
        "\n",
        "Data Integrity: Having a unique index helps maintain data integrity, ensuring that rows are uniquely identifiable and preventing duplicate or ambiguous entries.\n",
        "\n",
        "Merging and Joining Data: When merging or joining multiple DataFrames, setting a common index allows for easy and accurate data alignment.\n",
        "\n",
        "Hierarchical Indexing: Setting a multi-level index (hierarchical index) enables organizing and working with higher-dimensional data, providing a more structured representation of the data.\n",
        "\n",
        "In summary, setting an index in a DataFrame is a fundamental step in data analysis that allows for efficient data retrieval, data alignment, grouping, and various data manipulation operations. It improves the overall usability and integrity of the data, making it easier to work with and analyze."
      ],
      "metadata": {
        "id": "O7UgzeFqbhz0"
      }
    },
    {
      "cell_type": "code",
      "source": [
        "data_frame.dtypes"
      ],
      "metadata": {
        "colab": {
          "base_uri": "https://localhost:8080/"
        },
        "id": "oxFNTe7gJ6SP",
        "outputId": "5dc9bc9c-ba3a-43e2-f457-1601c8d3b1ed"
      },
      "execution_count": 102,
      "outputs": [
        {
          "output_type": "execute_result",
          "data": {
            "text/plain": [
              "Air temperature | ('C)              float64\n",
              "Pressure | (atm)                    float64\n",
              "Wind speed | (m/s)                  float64\n",
              "Wind direction | (deg)                int64\n",
              "Power generated by system | (kW)    float64\n",
              "dtype: object"
            ]
          },
          "metadata": {},
          "execution_count": 102
        }
      ]
    },
    {
      "cell_type": "code",
      "source": [
        "data_frame.index.dtype"
      ],
      "metadata": {
        "id": "USef9GnMaKUP",
        "outputId": "365e8531-9763-46be-deb5-cf04b02834b1",
        "colab": {
          "base_uri": "https://localhost:8080/"
        }
      },
      "execution_count": 103,
      "outputs": [
        {
          "output_type": "execute_result",
          "data": {
            "text/plain": [
              "dtype('<M8[ns]')"
            ]
          },
          "metadata": {},
          "execution_count": 103
        }
      ]
    },
    {
      "cell_type": "markdown",
      "source": [
        "**dtype('<M8[ns]')** is the NumPy representation of a 64-bit datetime data type with nanosecond precision, which is the format used by pandas to store datetime values in the 'DateTime' index of your DataFrame."
      ],
      "metadata": {
        "id": "_iSs8538bUtV"
      }
    },
    {
      "cell_type": "code",
      "source": [
        "data_frame['Power generated by system | (kW)'].replace(0, np.nan, inplace= True)\n"
      ],
      "metadata": {
        "id": "t6DbO5UDatL-"
      },
      "execution_count": 104,
      "outputs": []
    },
    {
      "cell_type": "code",
      "source": [
        "data_frame['Power generated by system | (kW)'].fillna(method= 'ffill', inplace= True)"
      ],
      "metadata": {
        "id": "MkHEwU_upM7E"
      },
      "execution_count": 105,
      "outputs": []
    },
    {
      "cell_type": "code",
      "source": [
        "data_frame.values[0]"
      ],
      "metadata": {
        "id": "K2Te6Yg6yXVr",
        "outputId": "cb5f2d3f-7f20-4763-b9a8-87709330ba8b",
        "colab": {
          "base_uri": "https://localhost:8080/"
        }
      },
      "execution_count": 106,
      "outputs": [
        {
          "output_type": "execute_result",
          "data": {
            "text/plain": [
              "array([1.09260e+01, 9.79103e-01, 9.01400e+00, 2.29000e+02, 3.36881e+04])"
            ]
          },
          "metadata": {},
          "execution_count": 106
        }
      ]
    },
    {
      "cell_type": "code",
      "source": [
        "data_frame.values"
      ],
      "metadata": {
        "id": "NNmNAze02huc",
        "outputId": "1ec5e549-8dfe-44fb-d75d-ae7398a77d2b",
        "colab": {
          "base_uri": "https://localhost:8080/"
        }
      },
      "execution_count": 107,
      "outputs": [
        {
          "output_type": "execute_result",
          "data": {
            "text/plain": [
              "array([[ 1.09260e+01,  9.79103e-01,  9.01400e+00,  2.29000e+02,\n",
              "         3.36881e+04],\n",
              "       [ 9.91900e+00,  9.79566e-01,  9.42800e+00,  2.32000e+02,\n",
              "         3.72619e+04],\n",
              "       [ 8.56700e+00,  9.79937e-01,  8.70000e+00,  2.36000e+02,\n",
              "         3.05029e+04],\n",
              "       ...,\n",
              "       [ 3.01500e+00,  9.93726e-01,  1.59000e+00,  3.50000e+01,\n",
              "         1.56125e+03],\n",
              "       [-3.17000e-01,  9.93483e-01,  2.01200e+00,  4.50000e+01,\n",
              "         1.56125e+03],\n",
              "       [-1.04800e+00,  9.93414e-01,  2.13200e+00,  3.90000e+01,\n",
              "         1.56125e+03]])"
            ]
          },
          "metadata": {},
          "execution_count": 107
        }
      ]
    },
    {
      "cell_type": "code",
      "source": [
        "print(len(dataset))\n",
        "data_frame.shape"
      ],
      "metadata": {
        "id": "osZ5b47f2rlf",
        "outputId": "d5f90dbf-ef27-4912-9b39-7549210e016b",
        "colab": {
          "base_uri": "https://localhost:8080/"
        }
      },
      "execution_count": 108,
      "outputs": [
        {
          "output_type": "stream",
          "name": "stdout",
          "text": [
            "52560\n"
          ]
        },
        {
          "output_type": "execute_result",
          "data": {
            "text/plain": [
              "(52560, 5)"
            ]
          },
          "metadata": {},
          "execution_count": 108
        }
      ]
    },
    {
      "cell_type": "markdown",
      "source": [
        "'method='ffill': This parameter specifies the fill method, which is set to 'ffill', indicating that forward fill should be used. Forward fill propagates the last valid observation forward to fill the missing values."
      ],
      "metadata": {
        "id": "nJKWJUMxrhOc"
      }
    },
    {
      "cell_type": "code",
      "source": [
        "dataset = data_frame.values\n",
        "train_size = int(len(dataset) * 0.7)\n",
        "print(train_size)"
      ],
      "metadata": {
        "id": "em2q7w5kpuOx",
        "outputId": "24edca41-0aa4-4f13-92b7-37062b18d7f0",
        "colab": {
          "base_uri": "https://localhost:8080/"
        }
      },
      "execution_count": 109,
      "outputs": [
        {
          "output_type": "stream",
          "name": "stdout",
          "text": [
            "36792\n"
          ]
        }
      ]
    },
    {
      "cell_type": "code",
      "source": [
        "test_size = len(dataset) - train_size\n",
        "print(test_size)"
      ],
      "metadata": {
        "id": "Hz8S0ck2yJNk",
        "outputId": "b684d891-ad57-4663-ed00-449d6c6d4677",
        "colab": {
          "base_uri": "https://localhost:8080/"
        }
      },
      "execution_count": 110,
      "outputs": [
        {
          "output_type": "stream",
          "name": "stdout",
          "text": [
            "15768\n"
          ]
        }
      ]
    },
    {
      "cell_type": "code",
      "source": [
        "dataset.dtype"
      ],
      "metadata": {
        "id": "MSIWAuDy8PsT",
        "outputId": "72d7442f-e3d5-4e5c-b63c-11bc0d2ba00b",
        "colab": {
          "base_uri": "https://localhost:8080/"
        }
      },
      "execution_count": 112,
      "outputs": [
        {
          "output_type": "execute_result",
          "data": {
            "text/plain": [
              "dtype('float64')"
            ]
          },
          "metadata": {},
          "execution_count": 112
        }
      ]
    },
    {
      "cell_type": "code",
      "source": [
        "dataset[0].dtype"
      ],
      "metadata": {
        "id": "T7x9GBee9pp3",
        "outputId": "b1b0a557-5373-4294-e9ca-34b2ba710ad5",
        "colab": {
          "base_uri": "https://localhost:8080/"
        }
      },
      "execution_count": 120,
      "outputs": [
        {
          "output_type": "execute_result",
          "data": {
            "text/plain": [
              "dtype('float64')"
            ]
          },
          "metadata": {},
          "execution_count": 120
        }
      ]
    },
    {
      "cell_type": "code",
      "source": [
        "dataset[0]"
      ],
      "metadata": {
        "id": "93pBW-MW8aGn",
        "outputId": "ed7ba238-5909-4b73-c903-6d2b12002b3b",
        "colab": {
          "base_uri": "https://localhost:8080/"
        }
      },
      "execution_count": 116,
      "outputs": [
        {
          "output_type": "execute_result",
          "data": {
            "text/plain": [
              "array([1.09260e+01, 9.79103e-01, 9.01400e+00, 2.29000e+02, 3.36881e+04])"
            ]
          },
          "metadata": {},
          "execution_count": 116
        }
      ]
    },
    {
      "cell_type": "code",
      "source": [
        "dataset[0][0]"
      ],
      "metadata": {
        "id": "HdKH8lL29faK",
        "outputId": "82a3717a-2800-424d-e01a-02358bca9373",
        "colab": {
          "base_uri": "https://localhost:8080/"
        }
      },
      "execution_count": 117,
      "outputs": [
        {
          "output_type": "execute_result",
          "data": {
            "text/plain": [
              "10.926"
            ]
          },
          "metadata": {},
          "execution_count": 117
        }
      ]
    },
    {
      "cell_type": "code",
      "source": [
        "dataset[0][0].dtype"
      ],
      "metadata": {
        "id": "ljEfW9UO9QmF",
        "outputId": "63baf17c-1959-48db-8867-c805afae7b05",
        "colab": {
          "base_uri": "https://localhost:8080/"
        }
      },
      "execution_count": 118,
      "outputs": [
        {
          "output_type": "execute_result",
          "data": {
            "text/plain": [
              "dtype('float64')"
            ]
          },
          "metadata": {},
          "execution_count": 118
        }
      ]
    },
    {
      "cell_type": "code",
      "source": [
        "x = dataset[0 : train_size]\n",
        "print(len(x))\n",
        "\n",
        "z = print(len())"
      ],
      "metadata": {
        "id": "pK3f4tVm-GH2",
        "outputId": "f4e4b7c6-7af1-4651-865d-844b150519e5",
        "colab": {
          "base_uri": "https://localhost:8080/"
        }
      },
      "execution_count": 126,
      "outputs": [
        {
          "output_type": "stream",
          "name": "stdout",
          "text": [
            "36792\n"
          ]
        }
      ]
    },
    {
      "cell_type": "code",
      "source": [
        "train, test = dataset[0: ]"
      ],
      "metadata": {
        "id": "gaI9Q8SK5W1M",
        "outputId": "3cc50e16-8017-41e7-b496-683227bec8a2",
        "colab": {
          "base_uri": "https://localhost:8080/",
          "height": 171
        }
      },
      "execution_count": 111,
      "outputs": [
        {
          "output_type": "error",
          "ename": "ValueError",
          "evalue": "ignored",
          "traceback": [
            "\u001b[0;31m---------------------------------------------------------------------------\u001b[0m",
            "\u001b[0;31mValueError\u001b[0m                                Traceback (most recent call last)",
            "\u001b[0;32m<ipython-input-111-6a210cd3bacc>\u001b[0m in \u001b[0;36m<cell line: 1>\u001b[0;34m()\u001b[0m\n\u001b[0;32m----> 1\u001b[0;31m \u001b[0mtrain\u001b[0m\u001b[0;34m,\u001b[0m \u001b[0mtest\u001b[0m \u001b[0;34m=\u001b[0m \u001b[0mdataset\u001b[0m\u001b[0;34m[\u001b[0m\u001b[0;36m0\u001b[0m\u001b[0;34m:\u001b[0m \u001b[0;34m]\u001b[0m\u001b[0;34m\u001b[0m\u001b[0;34m\u001b[0m\u001b[0m\n\u001b[0m",
            "\u001b[0;31mValueError\u001b[0m: too many values to unpack (expected 2)"
          ]
        }
      ]
    }
  ]
}