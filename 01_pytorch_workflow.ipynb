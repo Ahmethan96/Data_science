{
  "nbformat": 4,
  "nbformat_minor": 0,
  "metadata": {
    "colab": {
      "provenance": [],
      "authorship_tag": "ABX9TyMVJI8EdN2NN+unEjWAm/Dx",
      "include_colab_link": true
    },
    "kernelspec": {
      "name": "python3",
      "display_name": "Python 3"
    },
    "language_info": {
      "name": "python"
    }
  },
  "cells": [
    {
      "cell_type": "markdown",
      "metadata": {
        "id": "view-in-github",
        "colab_type": "text"
      },
      "source": [
        "<a href=\"https://colab.research.google.com/github/Ahmethan96/Data_science/blob/main/01_pytorch_workflow.ipynb\" target=\"_parent\"><img src=\"https://colab.research.google.com/assets/colab-badge.svg\" alt=\"Open In Colab\"/></a>"
      ]
    },
    {
      "cell_type": "code",
      "execution_count": 1,
      "metadata": {
        "id": "9bRyfknpocwo"
      },
      "outputs": [],
      "source": [
        "import torch\n",
        "from torch import nn\n",
        "import matplotlib.pyplot as plt"
      ]
    },
    {
      "cell_type": "code",
      "source": [
        "torch.__version__"
      ],
      "metadata": {
        "colab": {
          "base_uri": "https://localhost:8080/",
          "height": 36
        },
        "id": "UglGwAYoo5AL",
        "outputId": "2eb8927d-806e-4868-92a9-9eeec32253fe"
      },
      "execution_count": 2,
      "outputs": [
        {
          "output_type": "execute_result",
          "data": {
            "text/plain": [
              "'2.0.1+cu118'"
            ],
            "application/vnd.google.colaboratory.intrinsic+json": {
              "type": "string"
            }
          },
          "metadata": {},
          "execution_count": 2
        }
      ]
    },
    {
      "cell_type": "markdown",
      "source": [
        "## **1. Data (preparing and loading)**\n",
        "\n",
        "Data can be almost anything... in machine learing.\n",
        "\n",
        "* Excel speadsheet\n",
        "* Images of any kind\n",
        "* Videos (YouTube has lots of data...)\n",
        "* Audio like songs or podcastes\n",
        "* DNA\n",
        "* Text\n",
        "\n",
        "\n",
        "Machine learing is a game of two parts:\n",
        "1. Get data into a numerical representation\n",
        "2. Build a model to learn patterns in that numerical representation.\n",
        "\n",
        "To showcase this, let's create some *known* data using the linear regression formula.\n",
        "\n",
        "we'll use a linear regression formula to make a straight line with known **parameters**"
      ],
      "metadata": {
        "id": "BIZFDRMupLrv"
      }
    },
    {
      "cell_type": "code",
      "source": [
        "import torch\n",
        "# Create known parameters\n",
        "weight = 0.7\n",
        "bias = 0.3\n",
        "\n",
        "# Create\n",
        "start = 0\n",
        "end = 1\n",
        "step = 0.02\n",
        "X = torch.arange(start, end, step).unsqueeze(dim= 1)\n",
        "Y = weight * X + bias\n",
        "\n",
        "X[:10], Y[:10], len(X), len(Y)"
      ],
      "metadata": {
        "colab": {
          "base_uri": "https://localhost:8080/"
        },
        "id": "c5lmPvc-pClY",
        "outputId": "5dc5af25-edae-4487-81cf-6ed89d2896d5"
      },
      "execution_count": 3,
      "outputs": [
        {
          "output_type": "execute_result",
          "data": {
            "text/plain": [
              "(tensor([[0.0000],\n",
              "         [0.0200],\n",
              "         [0.0400],\n",
              "         [0.0600],\n",
              "         [0.0800],\n",
              "         [0.1000],\n",
              "         [0.1200],\n",
              "         [0.1400],\n",
              "         [0.1600],\n",
              "         [0.1800]]),\n",
              " tensor([[0.3000],\n",
              "         [0.3140],\n",
              "         [0.3280],\n",
              "         [0.3420],\n",
              "         [0.3560],\n",
              "         [0.3700],\n",
              "         [0.3840],\n",
              "         [0.3980],\n",
              "         [0.4120],\n",
              "         [0.4260]]),\n",
              " 50,\n",
              " 50)"
            ]
          },
          "metadata": {},
          "execution_count": 3
        }
      ]
    },
    {
      "cell_type": "code",
      "source": [
        "X.ndim # braket sayisi"
      ],
      "metadata": {
        "colab": {
          "base_uri": "https://localhost:8080/"
        },
        "id": "nJRBSOkW37pr",
        "outputId": "8581e8bc-3bcf-4191-efb9-221268a6dae1"
      },
      "execution_count": 4,
      "outputs": [
        {
          "output_type": "execute_result",
          "data": {
            "text/plain": [
              "2"
            ]
          },
          "metadata": {},
          "execution_count": 4
        }
      ]
    },
    {
      "cell_type": "code",
      "source": [
        "X.shape #(satir, sutun)"
      ],
      "metadata": {
        "colab": {
          "base_uri": "https://localhost:8080/"
        },
        "id": "YyN1k52o5MGQ",
        "outputId": "7d1c8f6e-be5c-454e-d23d-2aa3380964c7"
      },
      "execution_count": 5,
      "outputs": [
        {
          "output_type": "execute_result",
          "data": {
            "text/plain": [
              "torch.Size([50, 1])"
            ]
          },
          "metadata": {},
          "execution_count": 5
        }
      ]
    },
    {
      "cell_type": "code",
      "source": [
        "Y"
      ],
      "metadata": {
        "colab": {
          "base_uri": "https://localhost:8080/"
        },
        "id": "8gt-1Cew5W69",
        "outputId": "ac1ea6a9-cd18-4481-e248-b8a2ab26f886"
      },
      "execution_count": 6,
      "outputs": [
        {
          "output_type": "execute_result",
          "data": {
            "text/plain": [
              "tensor([[0.3000],\n",
              "        [0.3140],\n",
              "        [0.3280],\n",
              "        [0.3420],\n",
              "        [0.3560],\n",
              "        [0.3700],\n",
              "        [0.3840],\n",
              "        [0.3980],\n",
              "        [0.4120],\n",
              "        [0.4260],\n",
              "        [0.4400],\n",
              "        [0.4540],\n",
              "        [0.4680],\n",
              "        [0.4820],\n",
              "        [0.4960],\n",
              "        [0.5100],\n",
              "        [0.5240],\n",
              "        [0.5380],\n",
              "        [0.5520],\n",
              "        [0.5660],\n",
              "        [0.5800],\n",
              "        [0.5940],\n",
              "        [0.6080],\n",
              "        [0.6220],\n",
              "        [0.6360],\n",
              "        [0.6500],\n",
              "        [0.6640],\n",
              "        [0.6780],\n",
              "        [0.6920],\n",
              "        [0.7060],\n",
              "        [0.7200],\n",
              "        [0.7340],\n",
              "        [0.7480],\n",
              "        [0.7620],\n",
              "        [0.7760],\n",
              "        [0.7900],\n",
              "        [0.8040],\n",
              "        [0.8180],\n",
              "        [0.8320],\n",
              "        [0.8460],\n",
              "        [0.8600],\n",
              "        [0.8740],\n",
              "        [0.8880],\n",
              "        [0.9020],\n",
              "        [0.9160],\n",
              "        [0.9300],\n",
              "        [0.9440],\n",
              "        [0.9580],\n",
              "        [0.9720],\n",
              "        [0.9860]])"
            ]
          },
          "metadata": {},
          "execution_count": 6
        }
      ]
    },
    {
      "cell_type": "markdown",
      "source": [
        "### Splitting data into training and test sets (one of the most important concepts in machine learning in general)\n",
        "let's create a training and test set with our data."
      ],
      "metadata": {
        "id": "uhzZpGRO7asu"
      }
    },
    {
      "cell_type": "code",
      "source": [
        "z =  [x for x in range(10)]\n",
        "z"
      ],
      "metadata": {
        "colab": {
          "base_uri": "https://localhost:8080/"
        },
        "id": "oPsqixzl9mfJ",
        "outputId": "523c9a82-16e1-4770-cd9a-76cc71f1b559"
      },
      "execution_count": 7,
      "outputs": [
        {
          "output_type": "execute_result",
          "data": {
            "text/plain": [
              "[0, 1, 2, 3, 4, 5, 6, 7, 8, 9]"
            ]
          },
          "metadata": {},
          "execution_count": 7
        }
      ]
    },
    {
      "cell_type": "code",
      "source": [
        "ss = z[:5]\n",
        "ss"
      ],
      "metadata": {
        "colab": {
          "base_uri": "https://localhost:8080/"
        },
        "id": "T8kltQmX-Naa",
        "outputId": "72bda368-f37f-4914-f232-a070cce37c1b"
      },
      "execution_count": 8,
      "outputs": [
        {
          "output_type": "execute_result",
          "data": {
            "text/plain": [
              "[0, 1, 2, 3, 4]"
            ]
          },
          "metadata": {},
          "execution_count": 8
        }
      ]
    },
    {
      "cell_type": "code",
      "source": [
        "zz = z[5:]\n",
        "zz"
      ],
      "metadata": {
        "colab": {
          "base_uri": "https://localhost:8080/"
        },
        "id": "d_lfLp7--WoB",
        "outputId": "fb2ce6c1-969c-4120-a36d-fbcdcf159726"
      },
      "execution_count": 9,
      "outputs": [
        {
          "output_type": "execute_result",
          "data": {
            "text/plain": [
              "[5, 6, 7, 8, 9]"
            ]
          },
          "metadata": {},
          "execution_count": 9
        }
      ]
    },
    {
      "cell_type": "code",
      "source": [
        "gg = ss + zz\n",
        "gg"
      ],
      "metadata": {
        "colab": {
          "base_uri": "https://localhost:8080/"
        },
        "id": "oztB-dCi-bn1",
        "outputId": "68f39a7f-ce6b-4c74-d22e-9c75253e5846"
      },
      "execution_count": 10,
      "outputs": [
        {
          "output_type": "execute_result",
          "data": {
            "text/plain": [
              "[0, 1, 2, 3, 4, 5, 6, 7, 8, 9]"
            ]
          },
          "metadata": {},
          "execution_count": 10
        }
      ]
    },
    {
      "cell_type": "code",
      "source": [
        "len(X)"
      ],
      "metadata": {
        "colab": {
          "base_uri": "https://localhost:8080/"
        },
        "id": "UtjosSjkYMG_",
        "outputId": "33301bde-56e5-407c-e805-b91819b1b9bb"
      },
      "execution_count": 46,
      "outputs": [
        {
          "output_type": "execute_result",
          "data": {
            "text/plain": [
              "50"
            ]
          },
          "metadata": {},
          "execution_count": 46
        }
      ]
    },
    {
      "cell_type": "code",
      "source": [
        "print(0.8 * len(X))"
      ],
      "metadata": {
        "colab": {
          "base_uri": "https://localhost:8080/"
        },
        "id": "ZT1SVdsOYPw9",
        "outputId": "56aa6a43-e60e-4fcc-87bb-6238074913fb"
      },
      "execution_count": 47,
      "outputs": [
        {
          "output_type": "stream",
          "name": "stdout",
          "text": [
            "40.0\n"
          ]
        }
      ]
    },
    {
      "cell_type": "code",
      "source": [
        "# Create a train/test split\n",
        "train_split = int(0.8 * len(X))\n",
        "X_train, Y_train = X[:train_split], Y[:train_split] # from 0 to 40\n",
        "X_test, Y_test = X[train_split:], Y[train_split:] # from 40 to the end (50)\n",
        "\n",
        "len(X_train), len(Y_train), len(X_test), len(Y_test)"
      ],
      "metadata": {
        "colab": {
          "base_uri": "https://localhost:8080/"
        },
        "id": "4F7wlQ6b5iEO",
        "outputId": "803ebb07-33eb-44b5-8548-89484e7aa356"
      },
      "execution_count": 11,
      "outputs": [
        {
          "output_type": "execute_result",
          "data": {
            "text/plain": [
              "(40, 40, 10, 10)"
            ]
          },
          "metadata": {},
          "execution_count": 11
        }
      ]
    },
    {
      "cell_type": "code",
      "source": [
        "ibo = torch.tensor([[4, 4]])\n",
        "ibo"
      ],
      "metadata": {
        "colab": {
          "base_uri": "https://localhost:8080/"
        },
        "id": "GdLAxBdz_9Qu",
        "outputId": "d3bbe89c-c700-4345-a4d8-b7e58b814987"
      },
      "execution_count": 12,
      "outputs": [
        {
          "output_type": "execute_result",
          "data": {
            "text/plain": [
              "tensor([[4, 4]])"
            ]
          },
          "metadata": {},
          "execution_count": 12
        }
      ]
    },
    {
      "cell_type": "code",
      "source": [],
      "metadata": {
        "id": "Vza1arIPJrEq"
      },
      "execution_count": 12,
      "outputs": []
    },
    {
      "cell_type": "code",
      "source": [
        "def plot_prediction(train_data= X_train,\n",
        "                    train_labels= Y_train,\n",
        "                    test_data= X_test,\n",
        "                    test_labels= Y_test,\n",
        "                    predictions= None):\n",
        "  plt.figure(figsize= (10, 7))\n",
        "\n",
        "  # Plot training data in blue\n",
        "  plt.scatter(train_data, train_labels, c= \"b\", s= 4, label= \"Training data\")\n",
        "\n",
        "  # Plot test data in green\n",
        "  plt.scatter(test_data, test_labels, c= \"g\", s= 4, label= \"Testing data\")\n",
        "\n",
        "  # Are there prediction?\n",
        "  if predictions is not None:\n",
        "    # Plot the prediction if they exist\n",
        "    plt.scatter(test_data, predictions, c= \"r\", s= 4, label= \"Predictions\")\n",
        "\n",
        "  # Show the legend\n",
        "  plt.legend(prop= {\"size\": 14});\n"
      ],
      "metadata": {
        "id": "WMHQG_PfAE26"
      },
      "execution_count": 13,
      "outputs": []
    },
    {
      "cell_type": "code",
      "source": [
        "w = [x for x in range (10)] # [0, 1, 2, 3, 4, 5, 6, 7, 8, 9]\n",
        "z = [j for j in range(10, 20)] # [10, 11, 12, 13, 14, 15, 16, 17, 18, 19]\n"
      ],
      "metadata": {
        "colab": {
          "base_uri": "https://localhost:8080/"
        },
        "id": "BGKQEnqnZLgJ",
        "outputId": "799ebcf1-49ea-4555-c9f4-94068fb1c7a5"
      },
      "execution_count": 50,
      "outputs": [
        {
          "output_type": "execute_result",
          "data": {
            "text/plain": [
              "[0, 1, 2, 3, 4, 5, 6, 7, 8, 9]"
            ]
          },
          "metadata": {},
          "execution_count": 50
        }
      ]
    },
    {
      "cell_type": "code",
      "source": [
        "def plot_ibo(x_axis= w,\n",
        "         y_axis= z):\n",
        "  plt.figure(figsize= (10, 7))\n",
        "  plt.scatter(x_axis, y_axis, c= \"b\", s= 4, label= \"Training data\")\n",
        "\n",
        "  plt.legend(prop= {\"size\": 14});"
      ],
      "metadata": {
        "id": "OTDFJYKvZrsx"
      },
      "execution_count": 55,
      "outputs": []
    },
    {
      "cell_type": "code",
      "source": [
        "plot_ibo() # Linear line"
      ],
      "metadata": {
        "colab": {
          "base_uri": "https://localhost:8080/",
          "height": 599
        },
        "id": "ENGMyiAEb5IG",
        "outputId": "acf7a508-a04f-409c-b118-8456b98acf78"
      },
      "execution_count": 57,
      "outputs": [
        {
          "output_type": "display_data",
          "data": {
            "text/plain": [
              "<Figure size 1000x700 with 1 Axes>"
            ],
            "image/png": "[encoded data removed]"
          },
          "metadata": {}
        }
      ]
    },
    {
      "cell_type": "code",
      "source": [
        "plot_prediction();"
      ],
      "metadata": {
        "colab": {
          "base_uri": "https://localhost:8080/",
          "height": 599
        },
        "id": "ge42RyLDJRlp",
        "outputId": "f95f0555-ed62-470d-98ec-7d32115e555c"
      },
      "execution_count": 14,
      "outputs": [
        {
          "output_type": "display_data",
          "data": {
            "text/plain": [
              "<Figure size 1000x700 with 1 Axes>"
            ],
            "image/png": "[encoded data removed]"
          },
          "metadata": {}
        }
      ]
    },
    {
      "cell_type": "markdown",
      "source": [
        "## **2. Build model**\n",
        "\n",
        "Our first PyTorch model!\n",
        "This is very exciting... let's do it!\n",
        "\n",
        "Because we are going to be building classes throughout the course, I'd recomend getting familiar with OOP in Python, to do so you can use the following resourse from real Python: https://realpython.com/python3-object-oriented-programming/\n",
        "\n",
        "what our model does:\n",
        "* Start with random values(weight and bias)\n",
        "* Look at training data and adjust the random values to better represent (or get closer to) the ideal values (the weight and bias values er used to create the data)\n",
        "\n",
        "How does it do so?\n",
        "\n",
        "Through two main algorithms:\n",
        "1. Gradient descent\n",
        "2. Backpropagation\n"
      ],
      "metadata": {
        "id": "AhKOoOSQuUgT"
      }
    },
    {
      "cell_type": "code",
      "source": [
        "from torch import nn\n",
        "\n",
        "# Create linear regression model class\n",
        "\n",
        "class LinearRegressionModel(nn.Module): # <- alomst everything in\n",
        "                                 # Pytorch inherhits from nn.Module\n",
        "                                def __init__(self):\n",
        "                                  super().__init__()\n",
        "                                  # Initilize the model parameters\n",
        "                                  self.weights = nn.Parameter(torch.randn(1, requires_grad= True, dtype= torch.float))\n",
        "\n",
        "                                  self.bias = nn.Parameter(torch.randn(1, requires_grad= True, dtype= torch.float))\n",
        "\n",
        "\n",
        "\n",
        "\n",
        "\n",
        "\n",
        "                                  # Forward method to define the computation in the model\n",
        "                                def forward(self, x: torch.Tensor) -> torch.Tensor: # <- \"x\" is the input data\n",
        "                                    return self.weights * x + self.bias # this is the linear regression formula\n",
        "\n",
        "\n"
      ],
      "metadata": {
        "id": "0c5OpkazRLpQ"
      },
      "execution_count": 15,
      "outputs": []
    },
    {
      "cell_type": "markdown",
      "source": [
        "**PyTorch model building essentials**\n",
        "\n",
        "* torch.nn - contains all of the building for computational graphs (a neural network can be considered a computational graph)\n",
        "\n",
        "* torch.nn.Parameter - what parameters should our model try and learn, often a\n",
        "PyTorch layer from torch.nn will set these for us\n",
        "\n",
        "* torch.nn.Module - The base class for all neural network modules, if you subclass it, you should overwrite forward()\n",
        "\n",
        "* torch.optim - this is where the optimizers in PyTorch live, they will help with gradient descent\n",
        "\n",
        "* def forward(), this method defines what happens in the forward computation\n",
        "\n",
        "check: https://pytorch.org/tutorials/beginner/ptcheat.html\n"
      ],
      "metadata": {
        "id": "rulBoQp1f00j"
      }
    },
    {
      "cell_type": "markdown",
      "source": [
        "### Checking the contents of our PyTorch model\n",
        "\n",
        "Now we've created a model, let's see what's inside...\n",
        "\n",
        "So we can check our model parameters or what's inside our model using .parameters().\n"
      ],
      "metadata": {
        "id": "Fyhn3Y-BzbUQ"
      }
    },
    {
      "cell_type": "code",
      "source": [
        "# Create a random seed\n",
        "# torch.manual_seed(42)\n",
        "\n",
        "# Create an instance of the model (this is a subclass of nn.Module)\n",
        "model_0 = LinearRegressionModel()\n",
        "\n",
        "\n",
        "list(model_0.parameters())"
      ],
      "metadata": {
        "colab": {
          "base_uri": "https://localhost:8080/"
        },
        "id": "y577iTf4zcNg",
        "outputId": "f7c4490f-426b-48fa-f4a2-e4f787e6b5a0"
      },
      "execution_count": 42,
      "outputs": [
        {
          "output_type": "execute_result",
          "data": {
            "text/plain": [
              "[Parameter containing:\n",
              " tensor([1.1103], requires_grad=True),\n",
              " Parameter containing:\n",
              " tensor([-1.6898], requires_grad=True)]"
            ]
          },
          "metadata": {},
          "execution_count": 42
        }
      ]
    },
    {
      "cell_type": "code",
      "source": [
        "model_0(X_test)"
      ],
      "metadata": {
        "colab": {
          "base_uri": "https://localhost:8080/"
        },
        "id": "Y9ky14-nrI6J",
        "outputId": "5dc2ccd1-2564-464e-baaa-967aaa3143a3"
      },
      "execution_count": 63,
      "outputs": [
        {
          "output_type": "execute_result",
          "data": {
            "text/plain": [
              "tensor([[-0.8016],\n",
              "        [-0.7794],\n",
              "        [-0.7572],\n",
              "        [-0.7349],\n",
              "        [-0.7127],\n",
              "        [-0.6905],\n",
              "        [-0.6683],\n",
              "        [-0.6461],\n",
              "        [-0.6239],\n",
              "        [-0.6017]], grad_fn=<AddBackward0>)"
            ]
          },
          "metadata": {},
          "execution_count": 63
        }
      ]
    },
    {
      "cell_type": "code",
      "source": [
        "# List named parameters\n",
        "model_0.state_dict()"
      ],
      "metadata": {
        "colab": {
          "base_uri": "https://localhost:8080/"
        },
        "id": "PNdUbUeH2een",
        "outputId": "16524e9a-23b9-4ec0-ad90-60d8afbe30c3"
      },
      "execution_count": 43,
      "outputs": [
        {
          "output_type": "execute_result",
          "data": {
            "text/plain": [
              "OrderedDict([('weights', tensor([1.1103])), ('bias', tensor([-1.6898]))])"
            ]
          },
          "metadata": {},
          "execution_count": 43
        }
      ]
    },
    {
      "cell_type": "code",
      "source": [
        "weight, bias"
      ],
      "metadata": {
        "colab": {
          "base_uri": "https://localhost:8080/"
        },
        "id": "JaDlGo9A2pdb",
        "outputId": "6cc61d27-4ad0-48ae-b49a-bb3aded8e0d7"
      },
      "execution_count": 44,
      "outputs": [
        {
          "output_type": "execute_result",
          "data": {
            "text/plain": [
              "(0.7, 0.3)"
            ]
          },
          "metadata": {},
          "execution_count": 44
        }
      ]
    },
    {
      "cell_type": "markdown",
      "source": [
        "### Making prediction using torch.inference_mode()\n",
        "\n",
        "To check our model's predictive power, let's see how well it predictis y_test based on x_test.\n",
        "\n",
        "When we pass data through our model, it's going to run it through the forward()\n",
        "method."
      ],
      "metadata": {
        "id": "Yvh6TKk632iS"
      }
    },
    {
      "cell_type": "code",
      "source": [
        "X_test, Y_test"
      ],
      "metadata": {
        "colab": {
          "base_uri": "https://localhost:8080/"
        },
        "id": "p6Vi2cHx4wPb",
        "outputId": "61dab25d-8b6d-4f03-d20f-8caf839c2064"
      },
      "execution_count": 45,
      "outputs": [
        {
          "output_type": "execute_result",
          "data": {
            "text/plain": [
              "(tensor([[0.8000],\n",
              "         [0.8200],\n",
              "         [0.8400],\n",
              "         [0.8600],\n",
              "         [0.8800],\n",
              "         [0.9000],\n",
              "         [0.9200],\n",
              "         [0.9400],\n",
              "         [0.9600],\n",
              "         [0.9800]]),\n",
              " tensor([[0.8600],\n",
              "         [0.8740],\n",
              "         [0.8880],\n",
              "         [0.9020],\n",
              "         [0.9160],\n",
              "         [0.9300],\n",
              "         [0.9440],\n",
              "         [0.9580],\n",
              "         [0.9720],\n",
              "         [0.9860]]))"
            ]
          },
          "metadata": {},
          "execution_count": 45
        }
      ]
    },
    {
      "cell_type": "code",
      "source": [
        "X_train, Y_train"
      ],
      "metadata": {
        "colab": {
          "base_uri": "https://localhost:8080/"
        },
        "id": "9DdpFTy6dg6H",
        "outputId": "0fdb4b89-3fff-4eab-ecdd-8cbddc9b1dc9"
      },
      "execution_count": 58,
      "outputs": [
        {
          "output_type": "execute_result",
          "data": {
            "text/plain": [
              "(tensor([[0.0000],\n",
              "         [0.0200],\n",
              "         [0.0400],\n",
              "         [0.0600],\n",
              "         [0.0800],\n",
              "         [0.1000],\n",
              "         [0.1200],\n",
              "         [0.1400],\n",
              "         [0.1600],\n",
              "         [0.1800],\n",
              "         [0.2000],\n",
              "         [0.2200],\n",
              "         [0.2400],\n",
              "         [0.2600],\n",
              "         [0.2800],\n",
              "         [0.3000],\n",
              "         [0.3200],\n",
              "         [0.3400],\n",
              "         [0.3600],\n",
              "         [0.3800],\n",
              "         [0.4000],\n",
              "         [0.4200],\n",
              "         [0.4400],\n",
              "         [0.4600],\n",
              "         [0.4800],\n",
              "         [0.5000],\n",
              "         [0.5200],\n",
              "         [0.5400],\n",
              "         [0.5600],\n",
              "         [0.5800],\n",
              "         [0.6000],\n",
              "         [0.6200],\n",
              "         [0.6400],\n",
              "         [0.6600],\n",
              "         [0.6800],\n",
              "         [0.7000],\n",
              "         [0.7200],\n",
              "         [0.7400],\n",
              "         [0.7600],\n",
              "         [0.7800]]),\n",
              " tensor([[0.3000],\n",
              "         [0.3140],\n",
              "         [0.3280],\n",
              "         [0.3420],\n",
              "         [0.3560],\n",
              "         [0.3700],\n",
              "         [0.3840],\n",
              "         [0.3980],\n",
              "         [0.4120],\n",
              "         [0.4260],\n",
              "         [0.4400],\n",
              "         [0.4540],\n",
              "         [0.4680],\n",
              "         [0.4820],\n",
              "         [0.4960],\n",
              "         [0.5100],\n",
              "         [0.5240],\n",
              "         [0.5380],\n",
              "         [0.5520],\n",
              "         [0.5660],\n",
              "         [0.5800],\n",
              "         [0.5940],\n",
              "         [0.6080],\n",
              "         [0.6220],\n",
              "         [0.6360],\n",
              "         [0.6500],\n",
              "         [0.6640],\n",
              "         [0.6780],\n",
              "         [0.6920],\n",
              "         [0.7060],\n",
              "         [0.7200],\n",
              "         [0.7340],\n",
              "         [0.7480],\n",
              "         [0.7620],\n",
              "         [0.7760],\n",
              "         [0.7900],\n",
              "         [0.8040],\n",
              "         [0.8180],\n",
              "         [0.8320],\n",
              "         [0.8460]]))"
            ]
          },
          "metadata": {},
          "execution_count": 58
        }
      ]
    },
    {
      "cell_type": "code",
      "source": [
        "with torch.inference_mode():\n",
        "  y_prediction = LinearRegressionModel()\n",
        "\n",
        "y_prediction"
      ],
      "metadata": {
        "colab": {
          "base_uri": "https://localhost:8080/"
        },
        "id": "nEy3HHCred0E",
        "outputId": "916335c4-1add-4a55-f363-a1ccbb6030e1"
      },
      "execution_count": 61,
      "outputs": [
        {
          "output_type": "execute_result",
          "data": {
            "text/plain": [
              "LinearRegressionModel()"
            ]
          },
          "metadata": {},
          "execution_count": 61
        }
      ]
    },
    {
      "cell_type": "code",
      "source": [
        "# Make prediction with model\n",
        "\n",
        "with torch.inference_mode():\n",
        "  y_preds = model_0(X_test)\n",
        "\n",
        "\n",
        "y_preds"
      ],
      "metadata": {
        "colab": {
          "base_uri": "https://localhost:8080/"
        },
        "id": "_4c8Hyl-42ti",
        "outputId": "b9a9629b-3c86-4455-a9a4-7968eccc1c5e"
      },
      "execution_count": 22,
      "outputs": [
        {
          "output_type": "execute_result",
          "data": {
            "text/plain": [
              "tensor([[-2.8114],\n",
              "        [-2.8232],\n",
              "        [-2.8349],\n",
              "        [-2.8466],\n",
              "        [-2.8583],\n",
              "        [-2.8701],\n",
              "        [-2.8818],\n",
              "        [-2.8935],\n",
              "        [-2.9052],\n",
              "        [-2.9170]])"
            ]
          },
          "metadata": {},
          "execution_count": 22
        }
      ]
    },
    {
      "cell_type": "code",
      "source": [
        "Y_test"
      ],
      "metadata": {
        "colab": {
          "base_uri": "https://localhost:8080/"
        },
        "id": "av-gcJb65yNP",
        "outputId": "017403bd-b575-4e2a-9a5f-5968f5ff1069"
      },
      "execution_count": 23,
      "outputs": [
        {
          "output_type": "execute_result",
          "data": {
            "text/plain": [
              "tensor([[0.8600],\n",
              "        [0.8740],\n",
              "        [0.8880],\n",
              "        [0.9020],\n",
              "        [0.9160],\n",
              "        [0.9300],\n",
              "        [0.9440],\n",
              "        [0.9580],\n",
              "        [0.9720],\n",
              "        [0.9860]])"
            ]
          },
          "metadata": {},
          "execution_count": 23
        }
      ]
    },
    {
      "cell_type": "code",
      "source": [
        "plot_prediction(predictions= y_preds)"
      ],
      "metadata": {
        "colab": {
          "base_uri": "https://localhost:8080/",
          "height": 599
        },
        "id": "ji-gzQUS9URH",
        "outputId": "977942c5-d7fe-43c0-8c8d-ca8838dc638a"
      },
      "execution_count": 62,
      "outputs": [
        {
          "output_type": "display_data",
          "data": {
            "text/plain": [
              "<Figure size 1000x700 with 1 Axes>"
            ],
            "image/png": "[encoded data removed]"
          },
          "metadata": {}
        }
      ]
    },
    {
      "cell_type": "markdown",
      "source": [
        "## 3. Train model\n",
        "\n",
        "The whole idea of training is for a model to move from some *unknown* parameters\n",
        "(thsese may be random) to some *known* parameters.\n",
        "\n",
        "Or in other words from a poor represntation of the data to a better representation of the data.\n",
        "\n",
        "One way to measure how poor or how wrong models predictions are to use a loss function.\n",
        "\n",
        "* Note: Loss function may also be called cost function or criterion in different\n",
        "areas. For our case, we're going to refer to it as a loss function.\n",
        "\n",
        "Things we need to train:\n",
        "\n",
        "* **Loss function:** A function to measure how wrong your model's predictions are to the ideal outputs, lower is better\n",
        "\n",
        "* **Optimizer:** Takes into account the loss of a model and adjust the model's\n",
        "parameters (e.g, weights & bias) to imporve the loss function.\n",
        "\n",
        "And specifically for PyTorch, we need:\n",
        "* A training loop\n",
        "* A testing loop\n"
      ],
      "metadata": {
        "id": "r35lnm6kyyNx"
      }
    },
    {
      "cell_type": "code",
      "source": [
        "list(model_0.parameters())"
      ],
      "metadata": {
        "id": "Ehjgw5mP92iC",
        "colab": {
          "base_uri": "https://localhost:8080/"
        },
        "outputId": "7948915e-3dcd-4723-e82e-7fd9edf87c92"
      },
      "execution_count": 64,
      "outputs": [
        {
          "output_type": "execute_result",
          "data": {
            "text/plain": [
              "[Parameter containing:\n",
              " tensor([1.1103], requires_grad=True),\n",
              " Parameter containing:\n",
              " tensor([-1.6898], requires_grad=True)]"
            ]
          },
          "metadata": {},
          "execution_count": 64
        }
      ]
    },
    {
      "cell_type": "code",
      "source": [
        "# Check out our model's parameters (a parameter is a value that the model sets itself)\n",
        "model_0.state_dict()"
      ],
      "metadata": {
        "colab": {
          "base_uri": "https://localhost:8080/"
        },
        "id": "Q7g14Mm_4TKq",
        "outputId": "890328e7-b588-4a76-a395-ecb3834dbefc"
      },
      "execution_count": 66,
      "outputs": [
        {
          "output_type": "execute_result",
          "data": {
            "text/plain": [
              "OrderedDict([('weights', tensor([1.1103])), ('bias', tensor([-1.6898]))])"
            ]
          },
          "metadata": {},
          "execution_count": 66
        }
      ]
    },
    {
      "cell_type": "code",
      "source": [
        "# Setup a loss function\n",
        "loss_fn = nn.L1Loss()\n",
        "\n",
        "# Setup an optimizer (stochastic gradient descent)\n",
        "optimizer = torch.optim.SGD(params= model_0.parameters(), lr= 0.01) # lr = is\n",
        "# the most important hyperparameter you can set"
      ],
      "metadata": {
        "id": "ecqK-kQu4iXM"
      },
      "execution_count": 69,
      "outputs": []
    },
    {
      "cell_type": "markdown",
      "source": [
        "**Building a training loop (and a testing loop) in PyTorch**\n",
        "\n",
        "A couple of things we need in a training loop:\n",
        "\n",
        "0. Loop throug the data\n",
        "1. Forward pass (this involves data moving through our model's 'forward()' function) to make prediction on data - also called forward propagation\n",
        "2. Claculate the loss (compare forward pass prediction to ground truth labels)\n",
        "3. Optimizer zero grad\n",
        "4. Loss backward - move backwards throug the network to calculate the gradients of each of parameters of our model with respect to the loss (**backpropagation**)\n",
        "5. Optimizer step - use the optimizer to adjust our model's parameters to try and improve the loss  (**gradient descent**)\n"
      ],
      "metadata": {
        "id": "IVfxWRSH_rUi"
      }
    },
    {
      "cell_type": "code",
      "source": [
        ""
      ],
      "metadata": {
        "id": "J1QWd1-n-6AN"
      },
      "execution_count": null,
      "outputs": []
    }
  ]
}