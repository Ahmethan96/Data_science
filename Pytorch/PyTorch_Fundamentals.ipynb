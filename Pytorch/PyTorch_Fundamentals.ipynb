{
  "nbformat": 4,
  "nbformat_minor": 0,
  "metadata": {
    "colab": {
      "provenance": [],
      "authorship_tag": "ABX9TyPNo2VHd4RKYURtVnZqOoTt",
      "include_colab_link": true
    },
    "kernelspec": {
      "name": "python3",
      "display_name": "Python 3"
    },
    "language_info": {
      "name": "python"
    }
  },
  "cells": [
    {
      "cell_type": "markdown",
      "metadata": {
        "id": "view-in-github",
        "colab_type": "text"
      },
      "source": [
        "<a href=\"https://colab.research.google.com/github/Ahmethan96/Data_science/blob/main/Pytorch/PyTorch_Fundamentals.ipynb\" target=\"_parent\"><img src=\"https://colab.research.google.com/assets/colab-badge.svg\" alt=\"Open In Colab\"/></a>"
      ]
    },
    {
      "cell_type": "markdown",
      "source": [
        "**Creating tensors**"
      ],
      "metadata": {
        "id": "U0FFfmYvCTjc"
      }
    },
    {
      "cell_type": "code",
      "source": [
        "import torch"
      ],
      "metadata": {
        "id": "mDYBjkM2Copx"
      },
      "execution_count": 1,
      "outputs": []
    },
    {
      "cell_type": "markdown",
      "source": [],
      "metadata": {
        "id": "bt3iyMDBUdxC"
      }
    },
    {
      "cell_type": "code",
      "execution_count": 2,
      "metadata": {
        "colab": {
          "base_uri": "https://localhost:8080/"
        },
        "id": "RLD1vd72AjXp",
        "outputId": "3a763562-7aee-474a-b786-af023c8ba1c4"
      },
      "outputs": [
        {
          "output_type": "execute_result",
          "data": {
            "text/plain": [
              "tensor(7)"
            ]
          },
          "metadata": {},
          "execution_count": 2
        }
      ],
      "source": [
        "# Scalar\n",
        "scalar = torch.tensor(7)\n",
        "scalar"
      ]
    },
    {
      "cell_type": "code",
      "source": [
        "print(type(scalar))"
      ],
      "metadata": {
        "colab": {
          "base_uri": "https://localhost:8080/"
        },
        "id": "_hbJoma5Cke8",
        "outputId": "d1c5dfb4-b052-4600-f9bb-1ab51e90e400"
      },
      "execution_count": 3,
      "outputs": [
        {
          "output_type": "stream",
          "name": "stdout",
          "text": [
            "<class 'torch.Tensor'>\n"
          ]
        }
      ]
    },
    {
      "cell_type": "code",
      "source": [
        "scalar.ndim"
      ],
      "metadata": {
        "colab": {
          "base_uri": "https://localhost:8080/"
        },
        "id": "EMDE2hibCusj",
        "outputId": "9689002b-888f-480d-b020-3d389283ffe7"
      },
      "execution_count": 4,
      "outputs": [
        {
          "output_type": "execute_result",
          "data": {
            "text/plain": [
              "0"
            ]
          },
          "metadata": {},
          "execution_count": 4
        }
      ]
    },
    {
      "cell_type": "code",
      "source": [
        "# Get the Python number within a tensor (only works with one-element tensors)\n",
        "scalar.item()"
      ],
      "metadata": {
        "colab": {
          "base_uri": "https://localhost:8080/"
        },
        "id": "KoZg5CepC2v7",
        "outputId": "922d4b38-2786-4d92-951f-7486087b4c1e"
      },
      "execution_count": 5,
      "outputs": [
        {
          "output_type": "execute_result",
          "data": {
            "text/plain": [
              "7"
            ]
          },
          "metadata": {},
          "execution_count": 5
        }
      ]
    },
    {
      "cell_type": "code",
      "source": [
        "print(type(scalar.item()))"
      ],
      "metadata": {
        "colab": {
          "base_uri": "https://localhost:8080/"
        },
        "id": "bbLj7SCyC9Ai",
        "outputId": "62f3e7af-56a9-4c83-87de-4938333716f9"
      },
      "execution_count": 6,
      "outputs": [
        {
          "output_type": "stream",
          "name": "stdout",
          "text": [
            "<class 'int'>\n"
          ]
        }
      ]
    },
    {
      "cell_type": "code",
      "source": [
        "# Vector\n",
        "vector = torch.tensor([7, 7])\n",
        "vector"
      ],
      "metadata": {
        "colab": {
          "base_uri": "https://localhost:8080/"
        },
        "id": "aZWjVFCbDCQc",
        "outputId": "256ca0fa-ef64-4c48-e14d-c6d5bd4500b7"
      },
      "execution_count": 7,
      "outputs": [
        {
          "output_type": "execute_result",
          "data": {
            "text/plain": [
              "tensor([7, 7])"
            ]
          },
          "metadata": {},
          "execution_count": 7
        }
      ]
    },
    {
      "cell_type": "code",
      "source": [
        "vector.ndim"
      ],
      "metadata": {
        "colab": {
          "base_uri": "https://localhost:8080/"
        },
        "id": "zwkCocnWDf2y",
        "outputId": "fc07e12d-328d-431a-f0a1-50525a443adc"
      },
      "execution_count": 8,
      "outputs": [
        {
          "output_type": "execute_result",
          "data": {
            "text/plain": [
              "1"
            ]
          },
          "metadata": {},
          "execution_count": 8
        }
      ]
    },
    {
      "cell_type": "code",
      "source": [
        "vector.shape\n",
        "# The above returns torch.Size([2]) which means our vector has a shape of [2]. This is because of the two elements we placed inside the square brackets ([7, 7])."
      ],
      "metadata": {
        "colab": {
          "base_uri": "https://localhost:8080/"
        },
        "id": "lJfuPu4hDia3",
        "outputId": "0c9d3027-c7ea-4358-abfe-9404b3276c04"
      },
      "execution_count": 9,
      "outputs": [
        {
          "output_type": "execute_result",
          "data": {
            "text/plain": [
              "torch.Size([2])"
            ]
          },
          "metadata": {},
          "execution_count": 9
        }
      ]
    },
    {
      "cell_type": "code",
      "source": [
        "# Matrix\n",
        "MATRIX = torch.tensor([[7, 8], [9, 10]])\n",
        "MATRIX"
      ],
      "metadata": {
        "colab": {
          "base_uri": "https://localhost:8080/"
        },
        "id": "hiHwHdQqD_PA",
        "outputId": "46e576ce-1742-47b4-ec6f-6cb1544ae919"
      },
      "execution_count": 10,
      "outputs": [
        {
          "output_type": "execute_result",
          "data": {
            "text/plain": [
              "tensor([[ 7,  8],\n",
              "        [ 9, 10]])"
            ]
          },
          "metadata": {},
          "execution_count": 10
        }
      ]
    },
    {
      "cell_type": "code",
      "source": [
        "m = torch.tensor([[1, 5, 0],[6, 7, 0]])\n",
        "m"
      ],
      "metadata": {
        "id": "DzYT-hrOPbUo",
        "outputId": "3dbde82d-854c-4fab-bf40-148ee921efc0",
        "colab": {
          "base_uri": "https://localhost:8080/"
        }
      },
      "execution_count": 11,
      "outputs": [
        {
          "output_type": "execute_result",
          "data": {
            "text/plain": [
              "tensor([[1, 5, 0],\n",
              "        [6, 7, 0]])"
            ]
          },
          "metadata": {},
          "execution_count": 11
        }
      ]
    },
    {
      "cell_type": "code",
      "source": [
        "m.ndim"
      ],
      "metadata": {
        "id": "LP0E9Y_uSHQ6",
        "outputId": "dc07d0c8-a684-4a52-b555-6b87e2569a8c",
        "colab": {
          "base_uri": "https://localhost:8080/"
        }
      },
      "execution_count": 12,
      "outputs": [
        {
          "output_type": "execute_result",
          "data": {
            "text/plain": [
              "2"
            ]
          },
          "metadata": {},
          "execution_count": 12
        }
      ]
    },
    {
      "cell_type": "code",
      "source": [
        "m.shape"
      ],
      "metadata": {
        "id": "11_WFK1fSJt-",
        "outputId": "493671b4-419c-43fd-84fe-85b3341783a5",
        "colab": {
          "base_uri": "https://localhost:8080/"
        }
      },
      "execution_count": 13,
      "outputs": [
        {
          "output_type": "execute_result",
          "data": {
            "text/plain": [
              "torch.Size([2, 3])"
            ]
          },
          "metadata": {},
          "execution_count": 13
        }
      ]
    },
    {
      "cell_type": "code",
      "source": [
        "m.dtype"
      ],
      "metadata": {
        "id": "KQDqq_BYSOYS",
        "outputId": "3212f298-4914-4099-eb92-a431b1d91a5b",
        "colab": {
          "base_uri": "https://localhost:8080/"
        }
      },
      "execution_count": 14,
      "outputs": [
        {
          "output_type": "execute_result",
          "data": {
            "text/plain": [
              "torch.int64"
            ]
          },
          "metadata": {},
          "execution_count": 14
        }
      ]
    },
    {
      "cell_type": "code",
      "source": [
        "MATRIX.ndim"
      ],
      "metadata": {
        "colab": {
          "base_uri": "https://localhost:8080/"
        },
        "id": "dAV2FzCzEbJ0",
        "outputId": "c86f1123-7c11-4f58-9a24-769d294ffd6d"
      },
      "execution_count": 15,
      "outputs": [
        {
          "output_type": "execute_result",
          "data": {
            "text/plain": [
              "2"
            ]
          },
          "metadata": {},
          "execution_count": 15
        }
      ]
    },
    {
      "cell_type": "code",
      "source": [
        "MATRIX.shape"
      ],
      "metadata": {
        "colab": {
          "base_uri": "https://localhost:8080/"
        },
        "id": "OmLHOMVCE-eP",
        "outputId": "b38ff0b9-3d6f-46cf-d4b6-3fa352de7d19"
      },
      "execution_count": 16,
      "outputs": [
        {
          "output_type": "execute_result",
          "data": {
            "text/plain": [
              "torch.Size([2, 2])"
            ]
          },
          "metadata": {},
          "execution_count": 16
        }
      ]
    },
    {
      "cell_type": "code",
      "source": [
        "MATRIX.dtype"
      ],
      "metadata": {
        "id": "UQrYw9GWSUls",
        "outputId": "c8025a30-24cb-41ca-b215-096adfd16cd5",
        "colab": {
          "base_uri": "https://localhost:8080/"
        }
      },
      "execution_count": 17,
      "outputs": [
        {
          "output_type": "execute_result",
          "data": {
            "text/plain": [
              "torch.int64"
            ]
          },
          "metadata": {},
          "execution_count": 17
        }
      ]
    },
    {
      "cell_type": "code",
      "source": [
        "# Tensor\n",
        "TENSOR = torch.tensor([[[1, 2, 3],[4, 5, 6],[7, 8, 9]]])\n",
        "TENSOR"
      ],
      "metadata": {
        "colab": {
          "base_uri": "https://localhost:8080/"
        },
        "id": "ooQmmcgAFBTJ",
        "outputId": "0cd8ca9f-9aae-49e7-800a-a4c811a2ae2c"
      },
      "execution_count": 18,
      "outputs": [
        {
          "output_type": "execute_result",
          "data": {
            "text/plain": [
              "tensor([[[1, 2, 3],\n",
              "         [4, 5, 6],\n",
              "         [7, 8, 9]]])"
            ]
          },
          "metadata": {},
          "execution_count": 18
        }
      ]
    },
    {
      "cell_type": "code",
      "source": [
        "TENSOR.ndim"
      ],
      "metadata": {
        "colab": {
          "base_uri": "https://localhost:8080/"
        },
        "id": "8LPxiOCzF3Wy",
        "outputId": "441d4fed-1fa2-4982-9eb8-20d40cdfe13f"
      },
      "execution_count": 19,
      "outputs": [
        {
          "output_type": "execute_result",
          "data": {
            "text/plain": [
              "3"
            ]
          },
          "metadata": {},
          "execution_count": 19
        }
      ]
    },
    {
      "cell_type": "code",
      "source": [
        "TENSOR.shape"
      ],
      "metadata": {
        "colab": {
          "base_uri": "https://localhost:8080/"
        },
        "id": "vrYMfQYzF9lL",
        "outputId": "0acfeb43-8798-4311-db18-f0a9d7e8b482"
      },
      "execution_count": 20,
      "outputs": [
        {
          "output_type": "execute_result",
          "data": {
            "text/plain": [
              "torch.Size([1, 3, 3])"
            ]
          },
          "metadata": {},
          "execution_count": 20
        }
      ]
    },
    {
      "cell_type": "code",
      "source": [
        "TENSOR2 = torch.tensor([[1, 2, 3], [4, 5, 6], [7, 8, 9]])\n",
        "TENSOR2"
      ],
      "metadata": {
        "id": "-AqmYhQUWgaw",
        "outputId": "32474471-7125-4c83-d359-20693f28161b",
        "colab": {
          "base_uri": "https://localhost:8080/"
        }
      },
      "execution_count": 21,
      "outputs": [
        {
          "output_type": "execute_result",
          "data": {
            "text/plain": [
              "tensor([[1, 2, 3],\n",
              "        [4, 5, 6],\n",
              "        [7, 8, 9]])"
            ]
          },
          "metadata": {},
          "execution_count": 21
        }
      ]
    },
    {
      "cell_type": "code",
      "source": [
        "TENSOR2.ndim"
      ],
      "metadata": {
        "id": "fVxMxt8RXQve",
        "outputId": "f9a83157-0842-42cc-d16e-4f7e81b37f10",
        "colab": {
          "base_uri": "https://localhost:8080/"
        }
      },
      "execution_count": 22,
      "outputs": [
        {
          "output_type": "execute_result",
          "data": {
            "text/plain": [
              "2"
            ]
          },
          "metadata": {},
          "execution_count": 22
        }
      ]
    },
    {
      "cell_type": "code",
      "source": [
        "TENSOR2.shape"
      ],
      "metadata": {
        "id": "eRKSvOOkW2oV",
        "outputId": "0ff7fb6e-5230-418b-e3b5-d29441766316",
        "colab": {
          "base_uri": "https://localhost:8080/"
        }
      },
      "execution_count": 23,
      "outputs": [
        {
          "output_type": "execute_result",
          "data": {
            "text/plain": [
              "torch.Size([3, 3])"
            ]
          },
          "metadata": {},
          "execution_count": 23
        }
      ]
    },
    {
      "cell_type": "code",
      "source": [
        "TENSOR3 = torch.tensor([[[1, 2, 3], [4, 5, 6], [7, 8, 9]]])"
      ],
      "metadata": {
        "id": "wT68LabzW-mo"
      },
      "execution_count": 24,
      "outputs": []
    },
    {
      "cell_type": "code",
      "source": [
        "TENSOR3.ndim"
      ],
      "metadata": {
        "id": "wqIJlYu3XV8E",
        "outputId": "0019f0bf-7d06-4651-a4da-1891d80d5a72",
        "colab": {
          "base_uri": "https://localhost:8080/"
        }
      },
      "execution_count": 25,
      "outputs": [
        {
          "output_type": "execute_result",
          "data": {
            "text/plain": [
              "3"
            ]
          },
          "metadata": {},
          "execution_count": 25
        }
      ]
    },
    {
      "cell_type": "code",
      "source": [
        "TENSOR3.shape"
      ],
      "metadata": {
        "id": "yQDoHefdXGn4",
        "outputId": "139685e2-d186-420d-9c9e-d4e8f75a000f",
        "colab": {
          "base_uri": "https://localhost:8080/"
        }
      },
      "execution_count": 26,
      "outputs": [
        {
          "output_type": "execute_result",
          "data": {
            "text/plain": [
              "torch.Size([1, 3, 3])"
            ]
          },
          "metadata": {},
          "execution_count": 26
        }
      ]
    },
    {
      "cell_type": "code",
      "source": [
        "TENSOR3[0][1][0]"
      ],
      "metadata": {
        "id": "u3BnLEurXn1J",
        "outputId": "cb0fa8c3-bae6-4c65-81a3-e4b4dfdc577e",
        "colab": {
          "base_uri": "https://localhost:8080/"
        }
      },
      "execution_count": 27,
      "outputs": [
        {
          "output_type": "execute_result",
          "data": {
            "text/plain": [
              "tensor(4)"
            ]
          },
          "metadata": {},
          "execution_count": 27
        }
      ]
    },
    {
      "cell_type": "code",
      "source": [
        "TENSOR4 = torch.tensor([[[1, 2, 3], [4, 5, 6], [7, 8, 9]]])\n",
        "TENSOR4"
      ],
      "metadata": {
        "id": "bbwwOVhnYMa8",
        "outputId": "a6608918-3738-4e64-8b42-a6a8a98ac8a8",
        "colab": {
          "base_uri": "https://localhost:8080/"
        }
      },
      "execution_count": 28,
      "outputs": [
        {
          "output_type": "execute_result",
          "data": {
            "text/plain": [
              "tensor([[[1, 2, 3],\n",
              "         [4, 5, 6],\n",
              "         [7, 8, 9]]])"
            ]
          },
          "metadata": {},
          "execution_count": 28
        }
      ]
    },
    {
      "cell_type": "code",
      "source": [
        "TENSOR5 = torch.tensor([[1], [2], [3]])\n",
        "TENSOR5"
      ],
      "metadata": {
        "id": "dbuX3pxLTRvb",
        "outputId": "60f681e7-ddb0-45ac-81eb-4833c2daa6c7",
        "colab": {
          "base_uri": "https://localhost:8080/"
        }
      },
      "execution_count": 29,
      "outputs": [
        {
          "output_type": "execute_result",
          "data": {
            "text/plain": [
              "tensor([[1],\n",
              "        [2],\n",
              "        [3]])"
            ]
          },
          "metadata": {},
          "execution_count": 29
        }
      ]
    },
    {
      "cell_type": "code",
      "source": [
        "TENSOR5.shape"
      ],
      "metadata": {
        "id": "PoUlYF1uTdEw",
        "outputId": "29d3b135-81b0-4a76-c34c-c6baf6f52a11",
        "colab": {
          "base_uri": "https://localhost:8080/"
        }
      },
      "execution_count": 30,
      "outputs": [
        {
          "output_type": "execute_result",
          "data": {
            "text/plain": [
              "torch.Size([3, 1])"
            ]
          },
          "metadata": {},
          "execution_count": 30
        }
      ]
    },
    {
      "cell_type": "code",
      "source": [
        "TENSOR5.ndim"
      ],
      "metadata": {
        "id": "nhZrc-JsT42e",
        "outputId": "acf13f31-4834-4d67-8b94-dabbb6f6c8f5",
        "colab": {
          "base_uri": "https://localhost:8080/"
        }
      },
      "execution_count": 31,
      "outputs": [
        {
          "output_type": "execute_result",
          "data": {
            "text/plain": [
              "2"
            ]
          },
          "metadata": {},
          "execution_count": 31
        }
      ]
    },
    {
      "cell_type": "code",
      "source": [
        "TENSORS6 = torch.tensor([[[[[1, 2, 3], [4, 5, 6], [7, 8, 9], [10, 11, 12]]]]])\n",
        "TENSORS6"
      ],
      "metadata": {
        "id": "ftn2MAdBUybE",
        "outputId": "7db7eb4c-06b9-4956-c7b8-9c75d201972f",
        "colab": {
          "base_uri": "https://localhost:8080/"
        }
      },
      "execution_count": 32,
      "outputs": [
        {
          "output_type": "execute_result",
          "data": {
            "text/plain": [
              "tensor([[[[[ 1,  2,  3],\n",
              "           [ 4,  5,  6],\n",
              "           [ 7,  8,  9],\n",
              "           [10, 11, 12]]]]])"
            ]
          },
          "metadata": {},
          "execution_count": 32
        }
      ]
    },
    {
      "cell_type": "code",
      "source": [
        "TENSORS6.ndim"
      ],
      "metadata": {
        "id": "_4uLTI4CVJdh",
        "outputId": "7c792f61-874b-490b-dbd9-75b433b08a4b",
        "colab": {
          "base_uri": "https://localhost:8080/"
        }
      },
      "execution_count": 33,
      "outputs": [
        {
          "output_type": "execute_result",
          "data": {
            "text/plain": [
              "5"
            ]
          },
          "metadata": {},
          "execution_count": 33
        }
      ]
    },
    {
      "cell_type": "code",
      "source": [
        "TENSORS6.shape"
      ],
      "metadata": {
        "id": "QHoIy_ttVO6I",
        "outputId": "c4e67002-19d6-4157-dfb8-66e292cffa19",
        "colab": {
          "base_uri": "https://localhost:8080/"
        }
      },
      "execution_count": 34,
      "outputs": [
        {
          "output_type": "execute_result",
          "data": {
            "text/plain": [
              "torch.Size([1, 1, 1, 4, 3])"
            ]
          },
          "metadata": {},
          "execution_count": 34
        }
      ]
    },
    {
      "cell_type": "code",
      "source": [
        "# Create a random tensor of size (3, 4)\n",
        "random_tensor = torch.rand(size= (3, 4))\n",
        "random_tensor, random_tensor.dtype"
      ],
      "metadata": {
        "colab": {
          "base_uri": "https://localhost:8080/"
        },
        "id": "db_l0x_jGFRw",
        "outputId": "442ffdf2-2951-4139-d434-5617f01e484c"
      },
      "execution_count": 35,
      "outputs": [
        {
          "output_type": "execute_result",
          "data": {
            "text/plain": [
              "(tensor([[0.2400, 0.0473, 0.6341, 0.4563],\n",
              "         [0.5712, 0.7384, 0.3660, 0.0575],\n",
              "         [0.9991, 0.5359, 0.3971, 0.7472]]),\n",
              " torch.float32)"
            ]
          },
          "metadata": {},
          "execution_count": 35
        }
      ]
    },
    {
      "cell_type": "code",
      "source": [
        "rand = torch.rand(size= (5, 5))\n",
        "rand"
      ],
      "metadata": {
        "id": "yDsJTFpYH9BX",
        "outputId": "d59fea95-bd52-420c-ef20-b4a7670e9c05",
        "colab": {
          "base_uri": "https://localhost:8080/"
        }
      },
      "execution_count": 36,
      "outputs": [
        {
          "output_type": "execute_result",
          "data": {
            "text/plain": [
              "tensor([[0.9251, 0.0430, 0.8980, 0.3597, 0.7828],\n",
              "        [0.7083, 0.5425, 0.4696, 0.3014, 0.2729],\n",
              "        [0.6701, 0.8774, 0.6073, 0.0736, 0.1172],\n",
              "        [0.3667, 0.2137, 0.6077, 0.5866, 0.0514],\n",
              "        [0.9948, 0.9440, 0.3095, 0.4229, 0.0855]])"
            ]
          },
          "metadata": {},
          "execution_count": 36
        }
      ]
    },
    {
      "cell_type": "code",
      "source": [
        "rand.shape"
      ],
      "metadata": {
        "id": "5EN_7eJ8WRq_",
        "outputId": "f98fd688-ba74-461d-d90d-87c4e4cfad2c",
        "colab": {
          "base_uri": "https://localhost:8080/"
        }
      },
      "execution_count": 37,
      "outputs": [
        {
          "output_type": "execute_result",
          "data": {
            "text/plain": [
              "torch.Size([5, 5])"
            ]
          },
          "metadata": {},
          "execution_count": 37
        }
      ]
    },
    {
      "cell_type": "code",
      "source": [
        "rand_image = torch.rand(size= (224, 224, 3))\n",
        "rand_image"
      ],
      "metadata": {
        "id": "Ksig_cVwWWuj",
        "outputId": "acdcdc59-881f-4edf-9211-bb65f67492b9",
        "colab": {
          "base_uri": "https://localhost:8080/"
        }
      },
      "execution_count": 38,
      "outputs": [
        {
          "output_type": "execute_result",
          "data": {
            "text/plain": [
              "tensor([[[0.9608, 0.7601, 0.5012],\n",
              "         [0.0901, 0.4662, 0.2736],\n",
              "         [0.0242, 0.7735, 0.6557],\n",
              "         ...,\n",
              "         [0.3322, 0.9845, 0.0216],\n",
              "         [0.1552, 0.8019, 0.8828],\n",
              "         [0.6822, 0.2138, 0.2931]],\n",
              "\n",
              "        [[0.8863, 0.9810, 0.0130],\n",
              "         [0.1510, 0.7393, 0.6886],\n",
              "         [0.4129, 0.4410, 0.7692],\n",
              "         ...,\n",
              "         [0.2036, 0.6548, 0.0747],\n",
              "         [0.1962, 0.5329, 0.4851],\n",
              "         [0.5893, 0.2062, 0.6151]],\n",
              "\n",
              "        [[0.2297, 0.6941, 0.9300],\n",
              "         [0.3023, 0.0050, 0.3393],\n",
              "         [0.0980, 0.4203, 0.6199],\n",
              "         ...,\n",
              "         [0.4030, 0.7898, 0.7844],\n",
              "         [0.0622, 0.6189, 0.2972],\n",
              "         [0.1288, 0.1704, 0.5526]],\n",
              "\n",
              "        ...,\n",
              "\n",
              "        [[0.5359, 0.8380, 0.4182],\n",
              "         [0.2685, 0.2256, 0.0913],\n",
              "         [0.4052, 0.2855, 0.2775],\n",
              "         ...,\n",
              "         [0.5141, 0.3923, 0.9184],\n",
              "         [0.2305, 0.4047, 0.9816],\n",
              "         [0.7686, 0.0729, 0.3239]],\n",
              "\n",
              "        [[0.0533, 0.4163, 0.3914],\n",
              "         [0.8463, 0.7947, 0.8611],\n",
              "         [0.9497, 0.5395, 0.8347],\n",
              "         ...,\n",
              "         [0.5781, 0.3080, 0.5593],\n",
              "         [0.1735, 0.5509, 0.4297],\n",
              "         [0.9713, 0.4488, 0.9399]],\n",
              "\n",
              "        [[0.8263, 0.0132, 0.2501],\n",
              "         [0.4638, 0.3987, 0.8219],\n",
              "         [0.5300, 0.4947, 0.9932],\n",
              "         ...,\n",
              "         [0.8902, 0.0119, 0.2929],\n",
              "         [0.2405, 0.0049, 0.2033],\n",
              "         [0.1464, 0.5499, 0.3927]]])"
            ]
          },
          "metadata": {},
          "execution_count": 38
        }
      ]
    },
    {
      "cell_type": "code",
      "source": [
        "rand_image.ndim"
      ],
      "metadata": {
        "id": "94JA71FqZHYZ",
        "outputId": "27d627f5-6a0f-432f-da40-a988e514ffe5",
        "colab": {
          "base_uri": "https://localhost:8080/"
        }
      },
      "execution_count": 39,
      "outputs": [
        {
          "output_type": "execute_result",
          "data": {
            "text/plain": [
              "3"
            ]
          },
          "metadata": {},
          "execution_count": 39
        }
      ]
    },
    {
      "cell_type": "code",
      "source": [
        "rand_image1 = torch.rand(size= (3, 2, 5))\n",
        "rand_image1"
      ],
      "metadata": {
        "id": "FMEr6QCcZJOz",
        "outputId": "2abf078b-6d35-47f2-84d3-9c7fd569f538",
        "colab": {
          "base_uri": "https://localhost:8080/"
        }
      },
      "execution_count": 45,
      "outputs": [
        {
          "output_type": "execute_result",
          "data": {
            "text/plain": [
              "tensor([[[0.2934, 0.9472, 0.0221, 0.4635, 0.4982],\n",
              "         [0.7446, 0.0126, 0.8874, 0.6273, 0.2540]],\n",
              "\n",
              "        [[0.3959, 0.1422, 0.1548, 0.4473, 0.2542],\n",
              "         [0.5049, 0.6011, 0.9278, 0.0943, 0.3965]],\n",
              "\n",
              "        [[0.7331, 0.4164, 0.9588, 0.8734, 0.2068],\n",
              "         [0.3417, 0.3155, 0.8068, 0.0986, 0.3121]]])"
            ]
          },
          "metadata": {},
          "execution_count": 45
        }
      ]
    },
    {
      "cell_type": "code",
      "source": [
        "rand_image1.ndim"
      ],
      "metadata": {
        "id": "dU3DZY0BkQPs",
        "outputId": "07bc6458-2cb9-43ec-c382-01eb35cf0815",
        "colab": {
          "base_uri": "https://localhost:8080/"
        }
      },
      "execution_count": 47,
      "outputs": [
        {
          "output_type": "execute_result",
          "data": {
            "text/plain": [
              "3"
            ]
          },
          "metadata": {},
          "execution_count": 47
        }
      ]
    },
    {
      "cell_type": "code",
      "source": [
        "rand_image1.shape"
      ],
      "metadata": {
        "id": "QOmuznv5kVJt",
        "outputId": "426201c8-9a01-4e2c-8753-93dba4980234",
        "colab": {
          "base_uri": "https://localhost:8080/"
        }
      },
      "execution_count": 48,
      "outputs": [
        {
          "output_type": "execute_result",
          "data": {
            "text/plain": [
              "torch.Size([3, 2, 5])"
            ]
          },
          "metadata": {},
          "execution_count": 48
        }
      ]
    },
    {
      "cell_type": "code",
      "source": [
        "image = torch.rand(6, 5)\n",
        "image"
      ],
      "metadata": {
        "id": "O6XO7ZSVkCnu",
        "outputId": "37ebf108-a703-40af-f02f-e904b8362016",
        "colab": {
          "base_uri": "https://localhost:8080/"
        }
      },
      "execution_count": 49,
      "outputs": [
        {
          "output_type": "execute_result",
          "data": {
            "text/plain": [
              "tensor([[0.9463, 0.4166, 0.4474, 0.3972, 0.2897],\n",
              "        [0.6181, 0.2730, 0.9359, 0.5146, 0.5019],\n",
              "        [0.2750, 0.9439, 0.4351, 0.3751, 0.7278],\n",
              "        [0.4139, 0.8091, 0.7687, 0.4011, 0.2206],\n",
              "        [0.6259, 0.1637, 0.6797, 0.2865, 0.7198],\n",
              "        [0.3536, 0.0238, 0.2878, 0.6295, 0.0734]])"
            ]
          },
          "metadata": {},
          "execution_count": 49
        }
      ]
    },
    {
      "cell_type": "code",
      "source": [
        "image.shape"
      ],
      "metadata": {
        "id": "O3qhLu9ektBV",
        "outputId": "072f51d2-aff4-4c91-8ab7-40a552ff7fa8",
        "colab": {
          "base_uri": "https://localhost:8080/"
        }
      },
      "execution_count": 50,
      "outputs": [
        {
          "output_type": "execute_result",
          "data": {
            "text/plain": [
              "torch.Size([6, 5])"
            ]
          },
          "metadata": {},
          "execution_count": 50
        }
      ]
    },
    {
      "cell_type": "code",
      "source": [],
      "metadata": {
        "id": "C6LaTYbSlg6t"
      },
      "execution_count": null,
      "outputs": []
    }
  ]
}