{
  "nbformat": 4,
  "nbformat_minor": 0,
  "metadata": {
    "colab": {
      "provenance": [],
      "authorship_tag": "ABX9TyMfRcywsYYlgnyHHtEVTMF0",
      "include_colab_link": true
    },
    "kernelspec": {
      "name": "python3",
      "display_name": "Python 3"
    },
    "language_info": {
      "name": "python"
    }
  },
  "cells": [
    {
      "cell_type": "markdown",
      "metadata": {
        "id": "view-in-github",
        "colab_type": "text"
      },
      "source": [
        "<a href=\"https://colab.research.google.com/github/Ahmethan96/Data_science/blob/main/Pytorch/PyTorch_Fundamentals.ipynb\" target=\"_parent\"><img src=\"https://colab.research.google.com/assets/colab-badge.svg\" alt=\"Open In Colab\"/></a>"
      ]
    },
    {
      "cell_type": "markdown",
      "source": [
        "**Creating tensors**"
      ],
      "metadata": {
        "id": "U0FFfmYvCTjc"
      }
    },
    {
      "cell_type": "code",
      "source": [
        "import torch"
      ],
      "metadata": {
        "id": "mDYBjkM2Copx"
      },
      "execution_count": 1,
      "outputs": []
    },
    {
      "cell_type": "markdown",
      "source": [],
      "metadata": {
        "id": "bt3iyMDBUdxC"
      }
    },
    {
      "cell_type": "code",
      "execution_count": 2,
      "metadata": {
        "colab": {
          "base_uri": "https://localhost:8080/"
        },
        "id": "RLD1vd72AjXp",
        "outputId": "ab52a98f-2c75-4ef6-c68c-f5de555af393"
      },
      "outputs": [
        {
          "output_type": "execute_result",
          "data": {
            "text/plain": [
              "tensor(7)"
            ]
          },
          "metadata": {},
          "execution_count": 2
        }
      ],
      "source": [
        "# Scalar\n",
        "scalar = torch.tensor(7)\n",
        "scalar"
      ]
    },
    {
      "cell_type": "code",
      "source": [
        "print(type(scalar))"
      ],
      "metadata": {
        "colab": {
          "base_uri": "https://localhost:8080/"
        },
        "id": "_hbJoma5Cke8",
        "outputId": "daa701f4-037e-46f2-a721-241c4b3fc406"
      },
      "execution_count": 3,
      "outputs": [
        {
          "output_type": "stream",
          "name": "stdout",
          "text": [
            "<class 'torch.Tensor'>\n"
          ]
        }
      ]
    },
    {
      "cell_type": "code",
      "source": [
        "scalar.ndim"
      ],
      "metadata": {
        "colab": {
          "base_uri": "https://localhost:8080/"
        },
        "id": "EMDE2hibCusj",
        "outputId": "382d8937-6f01-4aa0-b6b4-d6bcb3853272"
      },
      "execution_count": 4,
      "outputs": [
        {
          "output_type": "execute_result",
          "data": {
            "text/plain": [
              "0"
            ]
          },
          "metadata": {},
          "execution_count": 4
        }
      ]
    },
    {
      "cell_type": "code",
      "source": [
        "# Get the Python number within a tensor (only works with one-element tensors)\n",
        "scalar.item()"
      ],
      "metadata": {
        "colab": {
          "base_uri": "https://localhost:8080/"
        },
        "id": "KoZg5CepC2v7",
        "outputId": "5a713bf9-9729-41b7-8457-4e5b9b0386bd"
      },
      "execution_count": 5,
      "outputs": [
        {
          "output_type": "execute_result",
          "data": {
            "text/plain": [
              "7"
            ]
          },
          "metadata": {},
          "execution_count": 5
        }
      ]
    },
    {
      "cell_type": "code",
      "source": [
        "print(type(scalar.item()))"
      ],
      "metadata": {
        "colab": {
          "base_uri": "https://localhost:8080/"
        },
        "id": "bbLj7SCyC9Ai",
        "outputId": "035c658b-cfb9-4c09-eeb0-fb05d8878ba9"
      },
      "execution_count": 6,
      "outputs": [
        {
          "output_type": "stream",
          "name": "stdout",
          "text": [
            "<class 'int'>\n"
          ]
        }
      ]
    },
    {
      "cell_type": "code",
      "source": [
        "# Vector\n",
        "vector = torch.tensor([7, 7])\n",
        "vector"
      ],
      "metadata": {
        "colab": {
          "base_uri": "https://localhost:8080/"
        },
        "id": "aZWjVFCbDCQc",
        "outputId": "a828de19-4a43-4cdc-f435-b93e26f33bc0"
      },
      "execution_count": 7,
      "outputs": [
        {
          "output_type": "execute_result",
          "data": {
            "text/plain": [
              "tensor([7, 7])"
            ]
          },
          "metadata": {},
          "execution_count": 7
        }
      ]
    },
    {
      "cell_type": "code",
      "source": [
        "vector.ndim"
      ],
      "metadata": {
        "colab": {
          "base_uri": "https://localhost:8080/"
        },
        "id": "zwkCocnWDf2y",
        "outputId": "1d098b9e-5587-4e37-ae5f-4d5cf1b7e46a"
      },
      "execution_count": 8,
      "outputs": [
        {
          "output_type": "execute_result",
          "data": {
            "text/plain": [
              "1"
            ]
          },
          "metadata": {},
          "execution_count": 8
        }
      ]
    },
    {
      "cell_type": "code",
      "source": [
        "vector.shape\n",
        "# The above returns torch.Size([2]) which means our vector has a shape of [2]. This is because of the two elements we placed inside the square brackets ([7, 7])."
      ],
      "metadata": {
        "colab": {
          "base_uri": "https://localhost:8080/"
        },
        "id": "lJfuPu4hDia3",
        "outputId": "36d3b7f7-ebd0-437c-a28c-b5b8238f45a2"
      },
      "execution_count": 9,
      "outputs": [
        {
          "output_type": "execute_result",
          "data": {
            "text/plain": [
              "torch.Size([2])"
            ]
          },
          "metadata": {},
          "execution_count": 9
        }
      ]
    },
    {
      "cell_type": "code",
      "source": [
        "# Matrix\n",
        "MATRIX = torch.tensor([[7, 8], [9, 10]])\n",
        "MATRIX"
      ],
      "metadata": {
        "colab": {
          "base_uri": "https://localhost:8080/"
        },
        "id": "hiHwHdQqD_PA",
        "outputId": "8ebf0da5-08d7-4eef-8a0f-c547d02eb30f"
      },
      "execution_count": 10,
      "outputs": [
        {
          "output_type": "execute_result",
          "data": {
            "text/plain": [
              "tensor([[ 7,  8],\n",
              "        [ 9, 10]])"
            ]
          },
          "metadata": {},
          "execution_count": 10
        }
      ]
    },
    {
      "cell_type": "code",
      "source": [
        "m = torch.tensor([[1, 5, 0],[6, 7, 0]])\n",
        "m"
      ],
      "metadata": {
        "id": "DzYT-hrOPbUo",
        "outputId": "6cdf4d00-a36a-4bf6-a1cc-8fa1166e0357",
        "colab": {
          "base_uri": "https://localhost:8080/"
        }
      },
      "execution_count": 30,
      "outputs": [
        {
          "output_type": "execute_result",
          "data": {
            "text/plain": [
              "tensor([[1, 5, 0],\n",
              "        [6, 7, 0]])"
            ]
          },
          "metadata": {},
          "execution_count": 30
        }
      ]
    },
    {
      "cell_type": "code",
      "source": [
        "m.ndim"
      ],
      "metadata": {
        "id": "LP0E9Y_uSHQ6",
        "outputId": "89fc9778-66d0-4cce-b6f5-b9d74f504889",
        "colab": {
          "base_uri": "https://localhost:8080/"
        }
      },
      "execution_count": 31,
      "outputs": [
        {
          "output_type": "execute_result",
          "data": {
            "text/plain": [
              "2"
            ]
          },
          "metadata": {},
          "execution_count": 31
        }
      ]
    },
    {
      "cell_type": "code",
      "source": [
        "m.shape"
      ],
      "metadata": {
        "id": "11_WFK1fSJt-",
        "outputId": "d8225f75-8fdb-4658-dcfb-d8056a32983c",
        "colab": {
          "base_uri": "https://localhost:8080/"
        }
      },
      "execution_count": 32,
      "outputs": [
        {
          "output_type": "execute_result",
          "data": {
            "text/plain": [
              "torch.Size([2, 3])"
            ]
          },
          "metadata": {},
          "execution_count": 32
        }
      ]
    },
    {
      "cell_type": "code",
      "source": [
        "m.dtype"
      ],
      "metadata": {
        "id": "KQDqq_BYSOYS",
        "outputId": "e7be92a8-4c24-490b-ad2d-b8898dcdb58d",
        "colab": {
          "base_uri": "https://localhost:8080/"
        }
      },
      "execution_count": 33,
      "outputs": [
        {
          "output_type": "execute_result",
          "data": {
            "text/plain": [
              "torch.int64"
            ]
          },
          "metadata": {},
          "execution_count": 33
        }
      ]
    },
    {
      "cell_type": "code",
      "source": [
        "MATRIX.ndim"
      ],
      "metadata": {
        "colab": {
          "base_uri": "https://localhost:8080/"
        },
        "id": "dAV2FzCzEbJ0",
        "outputId": "23f008cb-80e9-4671-f9fe-68f06246ec20"
      },
      "execution_count": 11,
      "outputs": [
        {
          "output_type": "execute_result",
          "data": {
            "text/plain": [
              "2"
            ]
          },
          "metadata": {},
          "execution_count": 11
        }
      ]
    },
    {
      "cell_type": "code",
      "source": [
        "MATRIX.shape"
      ],
      "metadata": {
        "colab": {
          "base_uri": "https://localhost:8080/"
        },
        "id": "OmLHOMVCE-eP",
        "outputId": "5778a5ac-c35f-41ff-a5d8-4b32b8f99598"
      },
      "execution_count": 12,
      "outputs": [
        {
          "output_type": "execute_result",
          "data": {
            "text/plain": [
              "torch.Size([2, 2])"
            ]
          },
          "metadata": {},
          "execution_count": 12
        }
      ]
    },
    {
      "cell_type": "code",
      "source": [
        "MATRIX.dtype"
      ],
      "metadata": {
        "id": "UQrYw9GWSUls",
        "outputId": "9ce525e6-0761-46d6-e2e5-aceb7cb14459",
        "colab": {
          "base_uri": "https://localhost:8080/"
        }
      },
      "execution_count": 34,
      "outputs": [
        {
          "output_type": "execute_result",
          "data": {
            "text/plain": [
              "torch.int64"
            ]
          },
          "metadata": {},
          "execution_count": 34
        }
      ]
    },
    {
      "cell_type": "code",
      "source": [
        "# Tensor\n",
        "TENSOR = torch.tensor([[[1, 2, 3],[4, 5, 6],[7, 8, 9]]])\n",
        "TENSOR"
      ],
      "metadata": {
        "colab": {
          "base_uri": "https://localhost:8080/"
        },
        "id": "ooQmmcgAFBTJ",
        "outputId": "5b6bdaf2-f256-4730-8f31-c53e0a429cf8"
      },
      "execution_count": 13,
      "outputs": [
        {
          "output_type": "execute_result",
          "data": {
            "text/plain": [
              "tensor([[[1, 2, 3],\n",
              "         [4, 5, 6],\n",
              "         [7, 8, 9]]])"
            ]
          },
          "metadata": {},
          "execution_count": 13
        }
      ]
    },
    {
      "cell_type": "code",
      "source": [
        "TENSOR.ndim"
      ],
      "metadata": {
        "colab": {
          "base_uri": "https://localhost:8080/"
        },
        "id": "8LPxiOCzF3Wy",
        "outputId": "2c08e867-dd56-4106-a5d8-5ac24ed5c200"
      },
      "execution_count": 14,
      "outputs": [
        {
          "output_type": "execute_result",
          "data": {
            "text/plain": [
              "3"
            ]
          },
          "metadata": {},
          "execution_count": 14
        }
      ]
    },
    {
      "cell_type": "code",
      "source": [
        "TENSOR.shape"
      ],
      "metadata": {
        "colab": {
          "base_uri": "https://localhost:8080/"
        },
        "id": "vrYMfQYzF9lL",
        "outputId": "fa2b8f55-878f-4dcf-c505-04d70c5f03d1"
      },
      "execution_count": 15,
      "outputs": [
        {
          "output_type": "execute_result",
          "data": {
            "text/plain": [
              "torch.Size([1, 3, 3])"
            ]
          },
          "metadata": {},
          "execution_count": 15
        }
      ]
    },
    {
      "cell_type": "code",
      "source": [
        "TENSOR2 = torch.tensor([[1, 2, 3], [4, 5, 6], [7, 8, 9]])\n",
        "TENSOR2"
      ],
      "metadata": {
        "id": "-AqmYhQUWgaw",
        "outputId": "d1ed00af-1ee0-41ec-9f6a-b4d30d8488e8",
        "colab": {
          "base_uri": "https://localhost:8080/"
        }
      },
      "execution_count": 16,
      "outputs": [
        {
          "output_type": "execute_result",
          "data": {
            "text/plain": [
              "tensor([[1, 2, 3],\n",
              "        [4, 5, 6],\n",
              "        [7, 8, 9]])"
            ]
          },
          "metadata": {},
          "execution_count": 16
        }
      ]
    },
    {
      "cell_type": "code",
      "source": [
        "TENSOR2.ndim"
      ],
      "metadata": {
        "id": "fVxMxt8RXQve",
        "outputId": "ef4fcc22-bf41-437c-d88f-0a10d05069a3",
        "colab": {
          "base_uri": "https://localhost:8080/"
        }
      },
      "execution_count": 17,
      "outputs": [
        {
          "output_type": "execute_result",
          "data": {
            "text/plain": [
              "2"
            ]
          },
          "metadata": {},
          "execution_count": 17
        }
      ]
    },
    {
      "cell_type": "code",
      "source": [
        "TENSOR2.shape"
      ],
      "metadata": {
        "id": "eRKSvOOkW2oV",
        "outputId": "2e31d7b8-0f72-4f9c-b4f8-28436d6d2544",
        "colab": {
          "base_uri": "https://localhost:8080/"
        }
      },
      "execution_count": 18,
      "outputs": [
        {
          "output_type": "execute_result",
          "data": {
            "text/plain": [
              "torch.Size([3, 3])"
            ]
          },
          "metadata": {},
          "execution_count": 18
        }
      ]
    },
    {
      "cell_type": "code",
      "source": [
        "TENSOR3 = torch.tensor([[[1, 2, 3], [4, 5, 6], [7, 8, 9]]])"
      ],
      "metadata": {
        "id": "wT68LabzW-mo"
      },
      "execution_count": 19,
      "outputs": []
    },
    {
      "cell_type": "code",
      "source": [
        "TENSOR3.ndim"
      ],
      "metadata": {
        "id": "wqIJlYu3XV8E",
        "outputId": "055975ae-23b9-493a-9d93-4b684f54c1f3",
        "colab": {
          "base_uri": "https://localhost:8080/"
        }
      },
      "execution_count": 20,
      "outputs": [
        {
          "output_type": "execute_result",
          "data": {
            "text/plain": [
              "3"
            ]
          },
          "metadata": {},
          "execution_count": 20
        }
      ]
    },
    {
      "cell_type": "code",
      "source": [
        "TENSOR3.shape"
      ],
      "metadata": {
        "id": "yQDoHefdXGn4",
        "outputId": "5c99afb5-b21c-4ad5-854b-c55671376bd3",
        "colab": {
          "base_uri": "https://localhost:8080/"
        }
      },
      "execution_count": 21,
      "outputs": [
        {
          "output_type": "execute_result",
          "data": {
            "text/plain": [
              "torch.Size([1, 3, 3])"
            ]
          },
          "metadata": {},
          "execution_count": 21
        }
      ]
    },
    {
      "cell_type": "code",
      "source": [
        "TENSOR3[0][1][0]"
      ],
      "metadata": {
        "id": "u3BnLEurXn1J",
        "outputId": "0b9ecfc6-29db-48a9-e021-69775f3a2af3",
        "colab": {
          "base_uri": "https://localhost:8080/"
        }
      },
      "execution_count": 22,
      "outputs": [
        {
          "output_type": "execute_result",
          "data": {
            "text/plain": [
              "tensor(4)"
            ]
          },
          "metadata": {},
          "execution_count": 22
        }
      ]
    },
    {
      "cell_type": "code",
      "source": [
        "TENSOR4 = torch.tensor([[[1, 2, 3], [4, 5, 6], [7, 8, 9]]])\n",
        "TENSOR4"
      ],
      "metadata": {
        "id": "bbwwOVhnYMa8",
        "outputId": "2d030129-bb73-4562-b5ee-48e2ea658783",
        "colab": {
          "base_uri": "https://localhost:8080/"
        }
      },
      "execution_count": 47,
      "outputs": [
        {
          "output_type": "execute_result",
          "data": {
            "text/plain": [
              "tensor([[[1, 2, 3],\n",
              "         [4, 5, 6],\n",
              "         [7, 8, 9]]])"
            ]
          },
          "metadata": {},
          "execution_count": 47
        }
      ]
    },
    {
      "cell_type": "code",
      "source": [
        "TENSOR5 = torch.tensor([[1], [2], [3]])\n",
        "TENSOR5"
      ],
      "metadata": {
        "id": "dbuX3pxLTRvb",
        "outputId": "375843f4-e288-4142-9ebb-235d7a82afc3",
        "colab": {
          "base_uri": "https://localhost:8080/"
        }
      },
      "execution_count": 46,
      "outputs": [
        {
          "output_type": "execute_result",
          "data": {
            "text/plain": [
              "tensor([[1],\n",
              "        [2],\n",
              "        [3]])"
            ]
          },
          "metadata": {},
          "execution_count": 46
        }
      ]
    },
    {
      "cell_type": "code",
      "source": [
        "TENSOR5.shape"
      ],
      "metadata": {
        "id": "PoUlYF1uTdEw",
        "outputId": "0481d3d2-5553-42b5-8fe3-5b8c554a07ba",
        "colab": {
          "base_uri": "https://localhost:8080/"
        }
      },
      "execution_count": 44,
      "outputs": [
        {
          "output_type": "execute_result",
          "data": {
            "text/plain": [
              "torch.Size([3, 1])"
            ]
          },
          "metadata": {},
          "execution_count": 44
        }
      ]
    },
    {
      "cell_type": "code",
      "source": [
        "TENSOR5.ndim"
      ],
      "metadata": {
        "id": "nhZrc-JsT42e",
        "outputId": "e85084ff-0eb6-4f75-fb65-07da6e2d65f7",
        "colab": {
          "base_uri": "https://localhost:8080/"
        }
      },
      "execution_count": 42,
      "outputs": [
        {
          "output_type": "execute_result",
          "data": {
            "text/plain": [
              "1"
            ]
          },
          "metadata": {},
          "execution_count": 42
        }
      ]
    },
    {
      "cell_type": "code",
      "source": [
        "TENSORS6 = torch.tensor([[[[[1, 2, 3], [4, 5, 6], [7, 8, 9], [10, 11, 12]]]]])\n",
        "TENSORS6"
      ],
      "metadata": {
        "id": "ftn2MAdBUybE",
        "outputId": "85655874-f78d-4cb1-cf58-6f5d429a5f96",
        "colab": {
          "base_uri": "https://localhost:8080/"
        }
      },
      "execution_count": 61,
      "outputs": [
        {
          "output_type": "execute_result",
          "data": {
            "text/plain": [
              "tensor([[[[[ 1,  2,  3],\n",
              "           [ 4,  5,  6],\n",
              "           [ 7,  8,  9],\n",
              "           [10, 11, 12]]]]])"
            ]
          },
          "metadata": {},
          "execution_count": 61
        }
      ]
    },
    {
      "cell_type": "code",
      "source": [
        "TENSORS6.ndim"
      ],
      "metadata": {
        "id": "_4uLTI4CVJdh",
        "outputId": "81ca78df-a809-4408-a210-6c5e45b76e64",
        "colab": {
          "base_uri": "https://localhost:8080/"
        }
      },
      "execution_count": 62,
      "outputs": [
        {
          "output_type": "execute_result",
          "data": {
            "text/plain": [
              "5"
            ]
          },
          "metadata": {},
          "execution_count": 62
        }
      ]
    },
    {
      "cell_type": "code",
      "source": [
        "TENSORS6.shape"
      ],
      "metadata": {
        "id": "QHoIy_ttVO6I",
        "outputId": "0e5e0adb-b2ce-4920-ef62-d2c1ccd7d4cc",
        "colab": {
          "base_uri": "https://localhost:8080/"
        }
      },
      "execution_count": 63,
      "outputs": [
        {
          "output_type": "execute_result",
          "data": {
            "text/plain": [
              "torch.Size([1, 1, 1, 4, 3])"
            ]
          },
          "metadata": {},
          "execution_count": 63
        }
      ]
    },
    {
      "cell_type": "code",
      "source": [
        "# Create a random tensor of size (3, 4)\n",
        "random_tensor = torch.rand(size= (3, 4))\n",
        "random_tensor, random_tensor.dtype"
      ],
      "metadata": {
        "colab": {
          "base_uri": "https://localhost:8080/"
        },
        "id": "db_l0x_jGFRw",
        "outputId": "57222696-0b2e-42b7-e160-1732bd8d20c2"
      },
      "execution_count": 24,
      "outputs": [
        {
          "output_type": "execute_result",
          "data": {
            "text/plain": [
              "(tensor([[0.5116, 0.4960, 0.6492, 0.0719],\n",
              "         [0.0552, 0.1862, 0.9686, 0.6151],\n",
              "         [0.0123, 0.1654, 0.1250, 0.4551]]),\n",
              " torch.float32)"
            ]
          },
          "metadata": {},
          "execution_count": 24
        }
      ]
    },
    {
      "cell_type": "code",
      "source": [
        "rand = torch.rand(size= (5, 5))\n",
        "rand"
      ],
      "metadata": {
        "id": "yDsJTFpYH9BX",
        "outputId": "d57f8af5-2562-4c7e-9aed-ca1b7ba60cd4",
        "colab": {
          "base_uri": "https://localhost:8080/"
        }
      },
      "execution_count": 25,
      "outputs": [
        {
          "output_type": "execute_result",
          "data": {
            "text/plain": [
              "tensor([[0.3013, 0.7791, 0.5472, 0.8161, 0.1264],\n",
              "        [0.6197, 0.7000, 0.4762, 0.8136, 0.5768],\n",
              "        [0.6713, 0.8534, 0.4695, 0.0860, 0.8456],\n",
              "        [0.2784, 0.8572, 0.2999, 0.3140, 0.7565],\n",
              "        [0.8256, 0.6279, 0.2886, 0.1616, 0.8824]])"
            ]
          },
          "metadata": {},
          "execution_count": 25
        }
      ]
    },
    {
      "cell_type": "code",
      "source": [
        "rand.shape"
      ],
      "metadata": {
        "id": "5EN_7eJ8WRq_",
        "outputId": "581136b6-9c9d-46a2-9c35-4ebda9fc0ee1",
        "colab": {
          "base_uri": "https://localhost:8080/"
        }
      },
      "execution_count": 26,
      "outputs": [
        {
          "output_type": "execute_result",
          "data": {
            "text/plain": [
              "torch.Size([5, 5])"
            ]
          },
          "metadata": {},
          "execution_count": 26
        }
      ]
    },
    {
      "cell_type": "code",
      "source": [
        "rand_image = torch.rand(size= (224, 224, 3))\n",
        "rand_image"
      ],
      "metadata": {
        "id": "Ksig_cVwWWuj",
        "outputId": "9d913ea6-a83c-43e9-daee-653e9a285a87",
        "colab": {
          "base_uri": "https://localhost:8080/"
        }
      },
      "execution_count": 68,
      "outputs": [
        {
          "output_type": "execute_result",
          "data": {
            "text/plain": [
              "tensor([[[0.9110, 0.8959, 0.0792],\n",
              "         [0.4127, 0.3574, 0.1950],\n",
              "         [0.5968, 0.0773, 0.2748],\n",
              "         ...,\n",
              "         [0.8226, 0.4444, 0.4586],\n",
              "         [0.2115, 0.3717, 0.3019],\n",
              "         [0.2666, 0.2028, 0.2203]],\n",
              "\n",
              "        [[0.5565, 0.9595, 0.6815],\n",
              "         [0.9139, 0.4757, 0.5233],\n",
              "         [0.0067, 0.7307, 0.5736],\n",
              "         ...,\n",
              "         [0.4767, 0.7236, 0.8247],\n",
              "         [0.1038, 0.0885, 0.3622],\n",
              "         [0.5665, 0.0947, 0.5261]],\n",
              "\n",
              "        [[0.6135, 0.9186, 0.7951],\n",
              "         [0.9481, 0.5535, 0.0779],\n",
              "         [0.0954, 0.9707, 0.7142],\n",
              "         ...,\n",
              "         [0.6038, 0.5471, 0.1755],\n",
              "         [0.3688, 0.0682, 0.4121],\n",
              "         [0.3300, 0.5941, 0.4355]],\n",
              "\n",
              "        ...,\n",
              "\n",
              "        [[0.7949, 0.2037, 0.3059],\n",
              "         [0.3441, 0.8018, 0.4546],\n",
              "         [0.9264, 0.8825, 0.8927],\n",
              "         ...,\n",
              "         [0.2411, 0.1818, 0.2303],\n",
              "         [0.4197, 0.0533, 0.5356],\n",
              "         [0.4778, 0.8412, 0.2372]],\n",
              "\n",
              "        [[0.8819, 0.5588, 0.4388],\n",
              "         [0.6623, 0.5921, 0.5542],\n",
              "         [0.2576, 0.6837, 0.5941],\n",
              "         ...,\n",
              "         [0.9234, 0.6010, 0.9340],\n",
              "         [0.4888, 0.5975, 0.1846],\n",
              "         [0.2437, 0.9925, 0.5116]],\n",
              "\n",
              "        [[0.9160, 0.7611, 0.6753],\n",
              "         [0.6289, 0.3338, 0.9742],\n",
              "         [0.3695, 0.1120, 0.6944],\n",
              "         ...,\n",
              "         [0.5967, 0.6230, 0.6539],\n",
              "         [0.6410, 0.5610, 0.2317],\n",
              "         [0.1044, 0.0388, 0.6318]]])"
            ]
          },
          "metadata": {},
          "execution_count": 68
        }
      ]
    },
    {
      "cell_type": "code",
      "source": [
        "rand_image.ndim"
      ],
      "metadata": {
        "id": "94JA71FqZHYZ",
        "outputId": "b4a63d7c-60b1-4e3e-d083-566353cd5ad8",
        "colab": {
          "base_uri": "https://localhost:8080/"
        }
      },
      "execution_count": 71,
      "outputs": [
        {
          "output_type": "execute_result",
          "data": {
            "text/plain": [
              "3"
            ]
          },
          "metadata": {},
          "execution_count": 71
        }
      ]
    },
    {
      "cell_type": "code",
      "source": [],
      "metadata": {
        "id": "FMEr6QCcZJOz"
      },
      "execution_count": null,
      "outputs": []
    }
  ]
}