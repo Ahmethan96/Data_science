{
  "nbformat": 4,
  "nbformat_minor": 0,
  "metadata": {
    "colab": {
      "provenance": [],
      "authorship_tag": "ABX9TyNA49uCTwf9V0McWL1ZHf+U",
      "include_colab_link": true
    },
    "kernelspec": {
      "name": "python3",
      "display_name": "Python 3"
    },
    "language_info": {
      "name": "python"
    }
  },
  "cells": [
    {
      "cell_type": "markdown",
      "metadata": {
        "id": "view-in-github",
        "colab_type": "text"
      },
      "source": [
        "<a href=\"https://colab.research.google.com/github/Ahmethan96/Data_science/blob/main/Pytorch/PyTorch_Fundamentals.ipynb\" target=\"_parent\"><img src=\"https://colab.research.google.com/assets/colab-badge.svg\" alt=\"Open In Colab\"/></a>"
      ]
    },
    {
      "cell_type": "markdown",
      "source": [
        "**Creating tensors**"
      ],
      "metadata": {
        "id": "U0FFfmYvCTjc"
      }
    },
    {
      "cell_type": "code",
      "source": [
        "import torch"
      ],
      "metadata": {
        "id": "mDYBjkM2Copx"
      },
      "execution_count": 1,
      "outputs": []
    },
    {
      "cell_type": "markdown",
      "source": [],
      "metadata": {
        "id": "bt3iyMDBUdxC"
      }
    },
    {
      "cell_type": "code",
      "execution_count": 2,
      "metadata": {
        "colab": {
          "base_uri": "https://localhost:8080/"
        },
        "id": "RLD1vd72AjXp",
        "outputId": "19437247-80f7-46be-9312-a592991bcd28"
      },
      "outputs": [
        {
          "output_type": "execute_result",
          "data": {
            "text/plain": [
              "tensor(7)"
            ]
          },
          "metadata": {},
          "execution_count": 2
        }
      ],
      "source": [
        "# Scalar\n",
        "scalar = torch.tensor(7)\n",
        "scalar"
      ]
    },
    {
      "cell_type": "code",
      "source": [
        "print(type(scalar))"
      ],
      "metadata": {
        "colab": {
          "base_uri": "https://localhost:8080/"
        },
        "id": "_hbJoma5Cke8",
        "outputId": "b2b9ea5c-0be9-40ef-ce8f-d291b2404173"
      },
      "execution_count": 3,
      "outputs": [
        {
          "output_type": "stream",
          "name": "stdout",
          "text": [
            "<class 'torch.Tensor'>\n"
          ]
        }
      ]
    },
    {
      "cell_type": "code",
      "source": [
        "scalar.ndim"
      ],
      "metadata": {
        "colab": {
          "base_uri": "https://localhost:8080/"
        },
        "id": "EMDE2hibCusj",
        "outputId": "4f1dfd99-4900-468c-c2d4-519a33f48a78"
      },
      "execution_count": 4,
      "outputs": [
        {
          "output_type": "execute_result",
          "data": {
            "text/plain": [
              "0"
            ]
          },
          "metadata": {},
          "execution_count": 4
        }
      ]
    },
    {
      "cell_type": "code",
      "source": [
        "# Get the Python number within a tensor (only works with one-element tensors)\n",
        "scalar.item()"
      ],
      "metadata": {
        "colab": {
          "base_uri": "https://localhost:8080/"
        },
        "id": "KoZg5CepC2v7",
        "outputId": "5186ec9e-b97b-449a-bb19-bb350edea0fc"
      },
      "execution_count": 5,
      "outputs": [
        {
          "output_type": "execute_result",
          "data": {
            "text/plain": [
              "7"
            ]
          },
          "metadata": {},
          "execution_count": 5
        }
      ]
    },
    {
      "cell_type": "code",
      "source": [
        "print(type(scalar.item()))"
      ],
      "metadata": {
        "colab": {
          "base_uri": "https://localhost:8080/"
        },
        "id": "bbLj7SCyC9Ai",
        "outputId": "479bd338-1048-4e43-84d3-750006733f07"
      },
      "execution_count": 6,
      "outputs": [
        {
          "output_type": "stream",
          "name": "stdout",
          "text": [
            "<class 'int'>\n"
          ]
        }
      ]
    },
    {
      "cell_type": "code",
      "source": [
        "# Vector\n",
        "vector = torch.tensor([7, 7])\n",
        "vector"
      ],
      "metadata": {
        "colab": {
          "base_uri": "https://localhost:8080/"
        },
        "id": "aZWjVFCbDCQc",
        "outputId": "020dd4be-093c-471d-8c94-d3b67901e4b0"
      },
      "execution_count": 7,
      "outputs": [
        {
          "output_type": "execute_result",
          "data": {
            "text/plain": [
              "tensor([7, 7])"
            ]
          },
          "metadata": {},
          "execution_count": 7
        }
      ]
    },
    {
      "cell_type": "code",
      "source": [
        "vector.ndim"
      ],
      "metadata": {
        "colab": {
          "base_uri": "https://localhost:8080/"
        },
        "id": "zwkCocnWDf2y",
        "outputId": "ca45408b-ea20-4a46-effb-ed180aec5281"
      },
      "execution_count": 8,
      "outputs": [
        {
          "output_type": "execute_result",
          "data": {
            "text/plain": [
              "1"
            ]
          },
          "metadata": {},
          "execution_count": 8
        }
      ]
    },
    {
      "cell_type": "code",
      "source": [
        "vector.shape\n",
        "# The above returns torch.Size([2]) which means our vector has a shape of [2]. This is because of the two elements we placed inside the square brackets ([7, 7])."
      ],
      "metadata": {
        "colab": {
          "base_uri": "https://localhost:8080/"
        },
        "id": "lJfuPu4hDia3",
        "outputId": "80c4d7d1-116e-4a10-a777-9e328a1ef3ef"
      },
      "execution_count": 9,
      "outputs": [
        {
          "output_type": "execute_result",
          "data": {
            "text/plain": [
              "torch.Size([2])"
            ]
          },
          "metadata": {},
          "execution_count": 9
        }
      ]
    },
    {
      "cell_type": "code",
      "source": [
        "# Matrix\n",
        "MATRIX = torch.tensor([[7, 8], [9, 10]])\n",
        "MATRIX"
      ],
      "metadata": {
        "colab": {
          "base_uri": "https://localhost:8080/"
        },
        "id": "hiHwHdQqD_PA",
        "outputId": "cf0ff1f2-0639-4406-c498-576eb038c665"
      },
      "execution_count": 10,
      "outputs": [
        {
          "output_type": "execute_result",
          "data": {
            "text/plain": [
              "tensor([[ 7,  8],\n",
              "        [ 9, 10]])"
            ]
          },
          "metadata": {},
          "execution_count": 10
        }
      ]
    },
    {
      "cell_type": "code",
      "source": [
        "m = torch.tensor([[1, 5, 0],[6, 7, 0]])\n",
        "m"
      ],
      "metadata": {
        "id": "DzYT-hrOPbUo",
        "outputId": "38df556f-45f8-49d1-ca44-1a519b443341",
        "colab": {
          "base_uri": "https://localhost:8080/"
        }
      },
      "execution_count": 11,
      "outputs": [
        {
          "output_type": "execute_result",
          "data": {
            "text/plain": [
              "tensor([[1, 5, 0],\n",
              "        [6, 7, 0]])"
            ]
          },
          "metadata": {},
          "execution_count": 11
        }
      ]
    },
    {
      "cell_type": "code",
      "source": [
        "m.ndim"
      ],
      "metadata": {
        "id": "LP0E9Y_uSHQ6",
        "outputId": "a6608da9-48ee-4bbc-ac89-6b0772884af1",
        "colab": {
          "base_uri": "https://localhost:8080/"
        }
      },
      "execution_count": 12,
      "outputs": [
        {
          "output_type": "execute_result",
          "data": {
            "text/plain": [
              "2"
            ]
          },
          "metadata": {},
          "execution_count": 12
        }
      ]
    },
    {
      "cell_type": "code",
      "source": [
        "m.shape"
      ],
      "metadata": {
        "id": "11_WFK1fSJt-",
        "outputId": "34a43f90-3050-4831-9946-76314dc38602",
        "colab": {
          "base_uri": "https://localhost:8080/"
        }
      },
      "execution_count": 13,
      "outputs": [
        {
          "output_type": "execute_result",
          "data": {
            "text/plain": [
              "torch.Size([2, 3])"
            ]
          },
          "metadata": {},
          "execution_count": 13
        }
      ]
    },
    {
      "cell_type": "code",
      "source": [
        "m.dtype"
      ],
      "metadata": {
        "id": "KQDqq_BYSOYS",
        "outputId": "7de69b44-a1cf-433e-c2bf-bf716b40a8a1",
        "colab": {
          "base_uri": "https://localhost:8080/"
        }
      },
      "execution_count": 14,
      "outputs": [
        {
          "output_type": "execute_result",
          "data": {
            "text/plain": [
              "torch.int64"
            ]
          },
          "metadata": {},
          "execution_count": 14
        }
      ]
    },
    {
      "cell_type": "code",
      "source": [
        "MATRIX.ndim"
      ],
      "metadata": {
        "colab": {
          "base_uri": "https://localhost:8080/"
        },
        "id": "dAV2FzCzEbJ0",
        "outputId": "ecc3cd8b-61da-4a6c-bc3c-fff1c40ac786"
      },
      "execution_count": 15,
      "outputs": [
        {
          "output_type": "execute_result",
          "data": {
            "text/plain": [
              "2"
            ]
          },
          "metadata": {},
          "execution_count": 15
        }
      ]
    },
    {
      "cell_type": "code",
      "source": [
        "MATRIX.shape"
      ],
      "metadata": {
        "colab": {
          "base_uri": "https://localhost:8080/"
        },
        "id": "OmLHOMVCE-eP",
        "outputId": "57047fe4-03a3-4192-d4c2-977d32b57f57"
      },
      "execution_count": 16,
      "outputs": [
        {
          "output_type": "execute_result",
          "data": {
            "text/plain": [
              "torch.Size([2, 2])"
            ]
          },
          "metadata": {},
          "execution_count": 16
        }
      ]
    },
    {
      "cell_type": "code",
      "source": [
        "MATRIX.dtype"
      ],
      "metadata": {
        "id": "UQrYw9GWSUls",
        "outputId": "80ae991c-cd2b-46c7-9816-f3565b7b5a24",
        "colab": {
          "base_uri": "https://localhost:8080/"
        }
      },
      "execution_count": 17,
      "outputs": [
        {
          "output_type": "execute_result",
          "data": {
            "text/plain": [
              "torch.int64"
            ]
          },
          "metadata": {},
          "execution_count": 17
        }
      ]
    },
    {
      "cell_type": "code",
      "source": [
        "# Tensor\n",
        "TENSOR = torch.tensor([[[1, 2, 3],[4, 5, 6],[7, 8, 9]]])\n",
        "TENSOR"
      ],
      "metadata": {
        "colab": {
          "base_uri": "https://localhost:8080/"
        },
        "id": "ooQmmcgAFBTJ",
        "outputId": "08d07192-01f3-4d76-ca1d-3e98699af524"
      },
      "execution_count": 18,
      "outputs": [
        {
          "output_type": "execute_result",
          "data": {
            "text/plain": [
              "tensor([[[1, 2, 3],\n",
              "         [4, 5, 6],\n",
              "         [7, 8, 9]]])"
            ]
          },
          "metadata": {},
          "execution_count": 18
        }
      ]
    },
    {
      "cell_type": "code",
      "source": [
        "TENSOR.ndim"
      ],
      "metadata": {
        "colab": {
          "base_uri": "https://localhost:8080/"
        },
        "id": "8LPxiOCzF3Wy",
        "outputId": "763c0ab3-6679-4e27-f2f8-1a268368d73f"
      },
      "execution_count": 19,
      "outputs": [
        {
          "output_type": "execute_result",
          "data": {
            "text/plain": [
              "3"
            ]
          },
          "metadata": {},
          "execution_count": 19
        }
      ]
    },
    {
      "cell_type": "code",
      "source": [
        "TENSOR.shape"
      ],
      "metadata": {
        "colab": {
          "base_uri": "https://localhost:8080/"
        },
        "id": "vrYMfQYzF9lL",
        "outputId": "81bc89c9-b664-4cf4-d32a-a93657f0d222"
      },
      "execution_count": 20,
      "outputs": [
        {
          "output_type": "execute_result",
          "data": {
            "text/plain": [
              "torch.Size([1, 3, 3])"
            ]
          },
          "metadata": {},
          "execution_count": 20
        }
      ]
    },
    {
      "cell_type": "code",
      "source": [
        "TENSOR2 = torch.tensor([[1, 2, 3], [4, 5, 6], [7, 8, 9]])\n",
        "TENSOR2"
      ],
      "metadata": {
        "id": "-AqmYhQUWgaw",
        "outputId": "64108c44-4ed2-4155-b027-51261d840a1c",
        "colab": {
          "base_uri": "https://localhost:8080/"
        }
      },
      "execution_count": 21,
      "outputs": [
        {
          "output_type": "execute_result",
          "data": {
            "text/plain": [
              "tensor([[1, 2, 3],\n",
              "        [4, 5, 6],\n",
              "        [7, 8, 9]])"
            ]
          },
          "metadata": {},
          "execution_count": 21
        }
      ]
    },
    {
      "cell_type": "code",
      "source": [
        "TENSOR2.ndim"
      ],
      "metadata": {
        "id": "fVxMxt8RXQve",
        "outputId": "3f2eaf43-7b75-46c9-e784-c33e3f218370",
        "colab": {
          "base_uri": "https://localhost:8080/"
        }
      },
      "execution_count": 22,
      "outputs": [
        {
          "output_type": "execute_result",
          "data": {
            "text/plain": [
              "2"
            ]
          },
          "metadata": {},
          "execution_count": 22
        }
      ]
    },
    {
      "cell_type": "code",
      "source": [
        "TENSOR2.shape"
      ],
      "metadata": {
        "id": "eRKSvOOkW2oV",
        "outputId": "750a92fc-6c79-4331-cf6f-7568c9130fbe",
        "colab": {
          "base_uri": "https://localhost:8080/"
        }
      },
      "execution_count": 23,
      "outputs": [
        {
          "output_type": "execute_result",
          "data": {
            "text/plain": [
              "torch.Size([3, 3])"
            ]
          },
          "metadata": {},
          "execution_count": 23
        }
      ]
    },
    {
      "cell_type": "code",
      "source": [
        "TENSOR3 = torch.tensor([[[1, 2, 3], [4, 5, 6], [7, 8, 9]]])"
      ],
      "metadata": {
        "id": "wT68LabzW-mo"
      },
      "execution_count": 24,
      "outputs": []
    },
    {
      "cell_type": "code",
      "source": [
        "TENSOR3.ndim"
      ],
      "metadata": {
        "id": "wqIJlYu3XV8E",
        "outputId": "ecc52ce0-5359-4631-f292-a82232c22f8d",
        "colab": {
          "base_uri": "https://localhost:8080/"
        }
      },
      "execution_count": 25,
      "outputs": [
        {
          "output_type": "execute_result",
          "data": {
            "text/plain": [
              "3"
            ]
          },
          "metadata": {},
          "execution_count": 25
        }
      ]
    },
    {
      "cell_type": "code",
      "source": [
        "TENSOR3.shape"
      ],
      "metadata": {
        "id": "yQDoHefdXGn4",
        "outputId": "91b187dd-65d5-4344-c765-3b1059d93e5b",
        "colab": {
          "base_uri": "https://localhost:8080/"
        }
      },
      "execution_count": 26,
      "outputs": [
        {
          "output_type": "execute_result",
          "data": {
            "text/plain": [
              "torch.Size([1, 3, 3])"
            ]
          },
          "metadata": {},
          "execution_count": 26
        }
      ]
    },
    {
      "cell_type": "code",
      "source": [
        "TENSOR3[0][1][0]"
      ],
      "metadata": {
        "id": "u3BnLEurXn1J",
        "outputId": "5b5767ba-a63a-4b78-d6a3-a0d4f6f81ba8",
        "colab": {
          "base_uri": "https://localhost:8080/"
        }
      },
      "execution_count": 27,
      "outputs": [
        {
          "output_type": "execute_result",
          "data": {
            "text/plain": [
              "tensor(4)"
            ]
          },
          "metadata": {},
          "execution_count": 27
        }
      ]
    },
    {
      "cell_type": "code",
      "source": [
        "TENSOR4 = torch.tensor([[[1, 2, 3], [4, 5, 6], [7, 8, 9]]])\n",
        "TENSOR4"
      ],
      "metadata": {
        "id": "bbwwOVhnYMa8",
        "outputId": "0aa43ec9-2347-4d5b-c9f0-6e9392cee92b",
        "colab": {
          "base_uri": "https://localhost:8080/"
        }
      },
      "execution_count": 28,
      "outputs": [
        {
          "output_type": "execute_result",
          "data": {
            "text/plain": [
              "tensor([[[1, 2, 3],\n",
              "         [4, 5, 6],\n",
              "         [7, 8, 9]]])"
            ]
          },
          "metadata": {},
          "execution_count": 28
        }
      ]
    },
    {
      "cell_type": "code",
      "source": [
        "TENSOR5 = torch.tensor([[1], [2], [3]])\n",
        "TENSOR5"
      ],
      "metadata": {
        "id": "dbuX3pxLTRvb",
        "outputId": "49884c9f-e8f7-4c1f-a464-3014a25e2bbd",
        "colab": {
          "base_uri": "https://localhost:8080/"
        }
      },
      "execution_count": 29,
      "outputs": [
        {
          "output_type": "execute_result",
          "data": {
            "text/plain": [
              "tensor([[1],\n",
              "        [2],\n",
              "        [3]])"
            ]
          },
          "metadata": {},
          "execution_count": 29
        }
      ]
    },
    {
      "cell_type": "code",
      "source": [
        "TENSOR5.shape"
      ],
      "metadata": {
        "id": "PoUlYF1uTdEw",
        "outputId": "7832d585-a04f-492d-f2b9-91ce2a57a3cd",
        "colab": {
          "base_uri": "https://localhost:8080/"
        }
      },
      "execution_count": 30,
      "outputs": [
        {
          "output_type": "execute_result",
          "data": {
            "text/plain": [
              "torch.Size([3, 1])"
            ]
          },
          "metadata": {},
          "execution_count": 30
        }
      ]
    },
    {
      "cell_type": "code",
      "source": [
        "TENSOR5.ndim"
      ],
      "metadata": {
        "id": "nhZrc-JsT42e",
        "outputId": "f81cb6e0-7118-42cd-8438-89d3bcb835b7",
        "colab": {
          "base_uri": "https://localhost:8080/"
        }
      },
      "execution_count": 31,
      "outputs": [
        {
          "output_type": "execute_result",
          "data": {
            "text/plain": [
              "2"
            ]
          },
          "metadata": {},
          "execution_count": 31
        }
      ]
    },
    {
      "cell_type": "code",
      "source": [
        "TENSORS6 = torch.tensor([[[[[1, 2, 3], [4, 5, 6], [7, 8, 9], [10, 11, 12]]]]])\n",
        "TENSORS6"
      ],
      "metadata": {
        "id": "ftn2MAdBUybE",
        "outputId": "1cfda2ce-381a-4115-d542-2717bda41616",
        "colab": {
          "base_uri": "https://localhost:8080/"
        }
      },
      "execution_count": 32,
      "outputs": [
        {
          "output_type": "execute_result",
          "data": {
            "text/plain": [
              "tensor([[[[[ 1,  2,  3],\n",
              "           [ 4,  5,  6],\n",
              "           [ 7,  8,  9],\n",
              "           [10, 11, 12]]]]])"
            ]
          },
          "metadata": {},
          "execution_count": 32
        }
      ]
    },
    {
      "cell_type": "code",
      "source": [
        "TENSORS6.ndim"
      ],
      "metadata": {
        "id": "_4uLTI4CVJdh",
        "outputId": "105e11d9-bc9f-49b5-ea2d-fa1ed2f84220",
        "colab": {
          "base_uri": "https://localhost:8080/"
        }
      },
      "execution_count": 33,
      "outputs": [
        {
          "output_type": "execute_result",
          "data": {
            "text/plain": [
              "5"
            ]
          },
          "metadata": {},
          "execution_count": 33
        }
      ]
    },
    {
      "cell_type": "code",
      "source": [
        "TENSORS6.shape"
      ],
      "metadata": {
        "id": "QHoIy_ttVO6I",
        "outputId": "5998e393-7317-4cdb-cfe6-d2e947000c0f",
        "colab": {
          "base_uri": "https://localhost:8080/"
        }
      },
      "execution_count": 34,
      "outputs": [
        {
          "output_type": "execute_result",
          "data": {
            "text/plain": [
              "torch.Size([1, 1, 1, 4, 3])"
            ]
          },
          "metadata": {},
          "execution_count": 34
        }
      ]
    },
    {
      "cell_type": "code",
      "source": [
        "# Create a random tensor of size (3, 4)\n",
        "random_tensor = torch.rand(size= (3, 4))\n",
        "random_tensor, random_tensor.dtype"
      ],
      "metadata": {
        "colab": {
          "base_uri": "https://localhost:8080/"
        },
        "id": "db_l0x_jGFRw",
        "outputId": "e31c85f4-28f1-4f6e-aa17-01c0593edf9d"
      },
      "execution_count": 35,
      "outputs": [
        {
          "output_type": "execute_result",
          "data": {
            "text/plain": [
              "(tensor([[0.2301, 0.3663, 0.4420, 0.7228],\n",
              "         [0.7493, 0.2740, 0.9823, 0.9352],\n",
              "         [0.4045, 0.4746, 0.3677, 0.9124]]),\n",
              " torch.float32)"
            ]
          },
          "metadata": {},
          "execution_count": 35
        }
      ]
    },
    {
      "cell_type": "code",
      "source": [
        "rand = torch.rand(size= (5, 5))\n",
        "rand"
      ],
      "metadata": {
        "id": "yDsJTFpYH9BX",
        "outputId": "b8efff10-9c22-453b-a8fb-903780fa684d",
        "colab": {
          "base_uri": "https://localhost:8080/"
        }
      },
      "execution_count": 36,
      "outputs": [
        {
          "output_type": "execute_result",
          "data": {
            "text/plain": [
              "tensor([[0.2916, 0.8688, 0.7488, 0.1224, 0.7635],\n",
              "        [0.5177, 0.3497, 0.9031, 0.5538, 0.0744],\n",
              "        [0.1177, 0.1275, 0.3971, 0.1612, 0.6221],\n",
              "        [0.8697, 0.9516, 0.6972, 0.4385, 0.8907],\n",
              "        [0.4314, 0.4549, 0.3691, 0.3464, 0.4254]])"
            ]
          },
          "metadata": {},
          "execution_count": 36
        }
      ]
    },
    {
      "cell_type": "code",
      "source": [
        "rand.shape"
      ],
      "metadata": {
        "id": "5EN_7eJ8WRq_",
        "outputId": "0e16b2bc-9b3d-4a4c-cd72-03f41a10630f",
        "colab": {
          "base_uri": "https://localhost:8080/"
        }
      },
      "execution_count": 37,
      "outputs": [
        {
          "output_type": "execute_result",
          "data": {
            "text/plain": [
              "torch.Size([5, 5])"
            ]
          },
          "metadata": {},
          "execution_count": 37
        }
      ]
    },
    {
      "cell_type": "code",
      "source": [
        "rand_image = torch.rand(size= (224, 224, 3))\n",
        "rand_image"
      ],
      "metadata": {
        "id": "Ksig_cVwWWuj",
        "outputId": "2065686e-73d9-4ef6-a36a-2df9d5c48911",
        "colab": {
          "base_uri": "https://localhost:8080/"
        }
      },
      "execution_count": 38,
      "outputs": [
        {
          "output_type": "execute_result",
          "data": {
            "text/plain": [
              "tensor([[[0.0140, 0.5394, 0.4919],\n",
              "         [0.7151, 0.9981, 0.5409],\n",
              "         [0.4871, 0.6034, 0.5388],\n",
              "         ...,\n",
              "         [0.2849, 0.9050, 0.2642],\n",
              "         [0.5058, 0.9983, 0.5602],\n",
              "         [0.4457, 0.1754, 0.9839]],\n",
              "\n",
              "        [[0.4644, 0.3086, 0.5114],\n",
              "         [0.6861, 0.5259, 0.6478],\n",
              "         [0.1299, 0.7811, 0.9050],\n",
              "         ...,\n",
              "         [0.8307, 0.4417, 0.5305],\n",
              "         [0.2971, 0.8924, 0.9052],\n",
              "         [0.1545, 0.9574, 0.7749]],\n",
              "\n",
              "        [[0.1964, 0.6396, 0.6048],\n",
              "         [0.4454, 0.7125, 0.4916],\n",
              "         [0.7896, 0.6937, 0.6902],\n",
              "         ...,\n",
              "         [0.5507, 0.1396, 0.1200],\n",
              "         [0.1015, 0.9557, 0.0720],\n",
              "         [0.8955, 0.4378, 0.9786]],\n",
              "\n",
              "        ...,\n",
              "\n",
              "        [[0.5778, 0.7484, 0.3870],\n",
              "         [0.0558, 0.3416, 0.4283],\n",
              "         [0.1864, 0.6748, 0.8232],\n",
              "         ...,\n",
              "         [0.9903, 0.8940, 0.6464],\n",
              "         [0.9270, 0.3959, 0.0490],\n",
              "         [0.9188, 0.3476, 0.7782]],\n",
              "\n",
              "        [[0.5083, 0.5453, 0.2784],\n",
              "         [0.5548, 0.1951, 0.8495],\n",
              "         [0.5291, 0.7261, 0.8474],\n",
              "         ...,\n",
              "         [0.1197, 0.7707, 0.6696],\n",
              "         [0.9475, 0.9177, 0.9265],\n",
              "         [0.3009, 0.1140, 0.5250]],\n",
              "\n",
              "        [[0.4451, 0.7057, 0.5937],\n",
              "         [0.0186, 0.7483, 0.0764],\n",
              "         [0.9786, 0.4222, 0.2891],\n",
              "         ...,\n",
              "         [0.6684, 0.3244, 0.5577],\n",
              "         [0.9857, 0.0962, 0.7225],\n",
              "         [0.9414, 0.8734, 0.6109]]])"
            ]
          },
          "metadata": {},
          "execution_count": 38
        }
      ]
    },
    {
      "cell_type": "code",
      "source": [
        "rand_image.ndim"
      ],
      "metadata": {
        "id": "94JA71FqZHYZ",
        "outputId": "b58bd71b-9a37-4164-9461-31d2541dd056",
        "colab": {
          "base_uri": "https://localhost:8080/"
        }
      },
      "execution_count": 39,
      "outputs": [
        {
          "output_type": "execute_result",
          "data": {
            "text/plain": [
              "3"
            ]
          },
          "metadata": {},
          "execution_count": 39
        }
      ]
    },
    {
      "cell_type": "code",
      "source": [
        "rand_image1 = torch.rand(size= (3, 2, 5))\n",
        "rand_image1"
      ],
      "metadata": {
        "id": "FMEr6QCcZJOz",
        "outputId": "dd074588-7cbe-419f-a568-9abc9e2ff150",
        "colab": {
          "base_uri": "https://localhost:8080/"
        }
      },
      "execution_count": 40,
      "outputs": [
        {
          "output_type": "execute_result",
          "data": {
            "text/plain": [
              "tensor([[[0.6616, 0.8120, 0.0676, 0.0926, 0.7967],\n",
              "         [0.2216, 0.0948, 0.9244, 0.9821, 0.1659]],\n",
              "\n",
              "        [[0.1650, 0.3052, 0.0311, 0.2827, 0.5741],\n",
              "         [0.9795, 0.8757, 0.5013, 0.7227, 0.1112]],\n",
              "\n",
              "        [[0.3475, 0.1562, 0.5509, 0.8208, 0.2681],\n",
              "         [0.7067, 0.0050, 0.7558, 0.2392, 0.1533]]])"
            ]
          },
          "metadata": {},
          "execution_count": 40
        }
      ]
    },
    {
      "cell_type": "code",
      "source": [
        "rand_image1.ndim"
      ],
      "metadata": {
        "id": "dU3DZY0BkQPs",
        "outputId": "cd0b88c9-39de-475a-c346-44931971ea86",
        "colab": {
          "base_uri": "https://localhost:8080/"
        }
      },
      "execution_count": 41,
      "outputs": [
        {
          "output_type": "execute_result",
          "data": {
            "text/plain": [
              "3"
            ]
          },
          "metadata": {},
          "execution_count": 41
        }
      ]
    },
    {
      "cell_type": "code",
      "source": [
        "rand_image1.shape"
      ],
      "metadata": {
        "id": "QOmuznv5kVJt",
        "outputId": "402024d5-fb8b-4e83-8f7f-148762c18d65",
        "colab": {
          "base_uri": "https://localhost:8080/"
        }
      },
      "execution_count": 42,
      "outputs": [
        {
          "output_type": "execute_result",
          "data": {
            "text/plain": [
              "torch.Size([3, 2, 5])"
            ]
          },
          "metadata": {},
          "execution_count": 42
        }
      ]
    },
    {
      "cell_type": "code",
      "source": [
        "image = torch.rand(6, 5)\n",
        "image"
      ],
      "metadata": {
        "id": "O6XO7ZSVkCnu",
        "outputId": "a861b642-1450-45e5-df38-955290e37ce4",
        "colab": {
          "base_uri": "https://localhost:8080/"
        }
      },
      "execution_count": 43,
      "outputs": [
        {
          "output_type": "execute_result",
          "data": {
            "text/plain": [
              "tensor([[0.6189, 0.2635, 0.1668, 0.9594, 0.5755],\n",
              "        [0.5316, 0.1221, 0.3705, 0.2513, 0.0325],\n",
              "        [0.4180, 0.0193, 0.0608, 0.8077, 0.5980],\n",
              "        [0.9440, 0.4548, 0.1047, 0.6846, 0.1338],\n",
              "        [0.1408, 0.1633, 0.4564, 0.9899, 0.7210],\n",
              "        [0.6631, 0.0190, 0.8225, 0.4789, 0.3141]])"
            ]
          },
          "metadata": {},
          "execution_count": 43
        }
      ]
    },
    {
      "cell_type": "code",
      "source": [
        "image.shape"
      ],
      "metadata": {
        "id": "O3qhLu9ektBV",
        "outputId": "860bcc99-5bc1-46b0-cf12-b77ea42f0726",
        "colab": {
          "base_uri": "https://localhost:8080/"
        }
      },
      "execution_count": 44,
      "outputs": [
        {
          "output_type": "execute_result",
          "data": {
            "text/plain": [
              "torch.Size([6, 5])"
            ]
          },
          "metadata": {},
          "execution_count": 44
        }
      ]
    },
    {
      "cell_type": "code",
      "source": [
        "test = torch.rand(size= (1, 4, 5))\n",
        "test"
      ],
      "metadata": {
        "id": "C6LaTYbSlg6t",
        "outputId": "27fabf49-c368-4095-8766-4e8499e60122",
        "colab": {
          "base_uri": "https://localhost:8080/"
        }
      },
      "execution_count": 50,
      "outputs": [
        {
          "output_type": "execute_result",
          "data": {
            "text/plain": [
              "tensor([[[0.9051, 0.0686, 0.1981, 0.3681, 0.0573],\n",
              "         [0.9635, 0.7639, 0.1335, 0.2969, 0.1614],\n",
              "         [0.1504, 0.2445, 0.8766, 0.4801, 0.7054],\n",
              "         [0.4682, 0.3260, 0.3510, 0.7678, 0.0845]]])"
            ]
          },
          "metadata": {},
          "execution_count": 50
        }
      ]
    },
    {
      "cell_type": "code",
      "source": [
        "# Create a tensor of all zeros\n",
        "Zeros = torch.zeros(size = (5, 4))\n",
        "Zeros"
      ],
      "metadata": {
        "id": "m1HTk6IdePP0",
        "outputId": "ec098dfe-2ea7-42aa-cedf-838ed1ee9e11",
        "colab": {
          "base_uri": "https://localhost:8080/"
        }
      },
      "execution_count": 52,
      "outputs": [
        {
          "output_type": "execute_result",
          "data": {
            "text/plain": [
              "tensor([[0., 0., 0., 0.],\n",
              "        [0., 0., 0., 0.],\n",
              "        [0., 0., 0., 0.],\n",
              "        [0., 0., 0., 0.],\n",
              "        [0., 0., 0., 0.]])"
            ]
          },
          "metadata": {},
          "execution_count": 52
        }
      ]
    },
    {
      "cell_type": "code",
      "source": [
        "# Create a tensor of all ones\n",
        "Ones = torch.ones(4, 5)\n",
        "Ones"
      ],
      "metadata": {
        "id": "r3OG6PiYfJew",
        "outputId": "2d3f0bc5-6603-480d-8151-f1278484cd2c",
        "colab": {
          "base_uri": "https://localhost:8080/"
        }
      },
      "execution_count": 53,
      "outputs": [
        {
          "output_type": "execute_result",
          "data": {
            "text/plain": [
              "tensor([[1., 1., 1., 1., 1.],\n",
              "        [1., 1., 1., 1., 1.],\n",
              "        [1., 1., 1., 1., 1.],\n",
              "        [1., 1., 1., 1., 1.]])"
            ]
          },
          "metadata": {},
          "execution_count": 53
        }
      ]
    },
    {
      "cell_type": "markdown",
      "source": [
        "**Creating a range and tensors like**"
      ],
      "metadata": {
        "id": "YwPzU21GfcEy"
      }
    },
    {
      "cell_type": "code",
      "source": [
        "# torch.range\n",
        "zero_to_ten = torch.range(0, 10)\n",
        "zero_to_ten"
      ],
      "metadata": {
        "id": "ONTFSRNvfR9o",
        "outputId": "28fc8d7d-8dc9-4d41-82d2-0d69a6043e38",
        "colab": {
          "base_uri": "https://localhost:8080/"
        }
      },
      "execution_count": 60,
      "outputs": [
        {
          "output_type": "stream",
          "name": "stderr",
          "text": [
            "<ipython-input-60-cd505cea6756>:2: UserWarning: torch.range is deprecated and will be removed in a future release because its behavior is inconsistent with Python's range builtin. Instead, use torch.arange, which produces values in [start, end).\n",
            "  zero_to_ten = torch.range(0, 10)\n"
          ]
        },
        {
          "output_type": "execute_result",
          "data": {
            "text/plain": [
              "tensor([ 0.,  1.,  2.,  3.,  4.,  5.,  6.,  7.,  8.,  9., 10.])"
            ]
          },
          "metadata": {},
          "execution_count": 60
        }
      ]
    },
    {
      "cell_type": "code",
      "source": [
        "for i in range(10):\n",
        "  print(i, end=\" \")"
      ],
      "metadata": {
        "id": "kQWjnUehfyju",
        "outputId": "3d27869f-a9fa-4cf1-86db-cd9d98c9cd94",
        "colab": {
          "base_uri": "https://localhost:8080/"
        }
      },
      "execution_count": 61,
      "outputs": [
        {
          "output_type": "stream",
          "name": "stdout",
          "text": [
            "0 1 2 3 4 5 6 7 8 9 "
          ]
        }
      ]
    },
    {
      "cell_type": "code",
      "source": [
        "# torch.arange\n",
        "new_zero_to_ten = torch.arange(0, 10)\n",
        "new_zero_to_ten\n"
      ],
      "metadata": {
        "id": "mlk9vCQqf4de",
        "outputId": "8558ee26-b985-4174-e449-1df6d2de65e5",
        "colab": {
          "base_uri": "https://localhost:8080/"
        }
      },
      "execution_count": 62,
      "outputs": [
        {
          "output_type": "execute_result",
          "data": {
            "text/plain": [
              "tensor([0, 1, 2, 3, 4, 5, 6, 7, 8, 9])"
            ]
          },
          "metadata": {},
          "execution_count": 62
        }
      ]
    },
    {
      "cell_type": "code",
      "source": [
        "new_zero_to_ten[8]"
      ],
      "metadata": {
        "id": "-yEYxBdfgkyc",
        "outputId": "42247aed-0430-4623-d29a-2bef0ae53b03",
        "colab": {
          "base_uri": "https://localhost:8080/"
        }
      },
      "execution_count": 63,
      "outputs": [
        {
          "output_type": "execute_result",
          "data": {
            "text/plain": [
              "tensor(8)"
            ]
          },
          "metadata": {},
          "execution_count": 63
        }
      ]
    },
    {
      "cell_type": "code",
      "source": [
        "data_type = torch.rand(size = (5, 5), dtype= torch.float32)\n",
        "data_type"
      ],
      "metadata": {
        "id": "5Nl9iGxwh6y9",
        "outputId": "7ef5680d-4758-4f5a-c003-e515111cb3bb",
        "colab": {
          "base_uri": "https://localhost:8080/"
        }
      },
      "execution_count": 67,
      "outputs": [
        {
          "output_type": "execute_result",
          "data": {
            "text/plain": [
              "tensor([[4.4405e-01, 8.2167e-01, 7.4654e-01, 9.6127e-01, 2.0949e-02],\n",
              "        [8.6150e-01, 5.3541e-01, 5.7007e-01, 6.0195e-04, 9.5439e-01],\n",
              "        [5.7502e-02, 8.3648e-01, 7.8434e-01, 7.8742e-01, 5.3277e-01],\n",
              "        [8.2468e-01, 9.4720e-01, 1.1189e-01, 4.8132e-01, 9.8467e-01],\n",
              "        [5.8219e-02, 7.4680e-01, 2.9353e-01, 3.8160e-01, 4.0748e-01]])"
            ]
          },
          "metadata": {},
          "execution_count": 67
        }
      ]
    },
    {
      "cell_type": "code",
      "source": [
        "data_type.dtype"
      ],
      "metadata": {
        "id": "s_Bo8j9ViF5U",
        "outputId": "97941c26-f626-4061-82bc-85f0e5cb91b3",
        "colab": {
          "base_uri": "https://localhost:8080/"
        }
      },
      "execution_count": 68,
      "outputs": [
        {
          "output_type": "execute_result",
          "data": {
            "text/plain": [
              "torch.float32"
            ]
          },
          "metadata": {},
          "execution_count": 68
        }
      ]
    },
    {
      "cell_type": "markdown",
      "source": [
        "**Getting information from tensors**\n",
        "Once you've created tensors (or someone else or a PyTorch module has created them for you), you might want to get some information from them.\n",
        "\n",
        "We've seen these before but three of the most common attributes you'll want to find out about tensors are:\n",
        "\n",
        "shape - what shape is the tensor? (some operations require specific shape rules)\n",
        "dtype - what datatype are the elements within the tensor stored in?\n",
        "device - what device is the tensor stored on? (usually GPU or CPU)"
      ],
      "metadata": {
        "id": "JUWGU2QwifaO"
      }
    },
    {
      "cell_type": "code",
      "source": [
        "some_data = torch.rand(3, 4)\n",
        "\n",
        "print(some_tensor)\n",
        "print(f\"Shape of tensor: {some_tensor.shape}\")\n",
        "print(f\"Datatype of tensor: {some_data.dtype}\")\n",
        "print(f\"Device tensor is stored on: {some_tensor.device}\")"
      ],
      "metadata": {
        "id": "R-XcWcpyiW-V",
        "outputId": "e8621210-54c0-41ae-f7e1-4637d33516f3",
        "colab": {
          "base_uri": "https://localhost:8080/"
        }
      },
      "execution_count": 70,
      "outputs": [
        {
          "output_type": "stream",
          "name": "stdout",
          "text": [
            "tensor([[0.2376, 0.3891, 0.6301, 0.7972],\n",
            "        [0.4310, 0.0327, 0.4304, 0.2400],\n",
            "        [0.0347, 0.1360, 0.3203, 0.4903]])\n",
            "Shape of tensor: torch.Size([3, 4])\n",
            "Datatype of tensor: torch.float32\n",
            "Device tensor is stored on: cpu\n"
          ]
        }
      ]
    },
    {
      "cell_type": "markdown",
      "source": [
        "Note: When you run into issues in PyTorch, it's very often one to do with one of the three attributes above. So when the error messages show up, sing yourself a little song called \"what, what, where\":\n",
        "\n",
        "\"what shape are my tensors? what datatype are they and where are they stored? what shape, what datatype, where where where\""
      ],
      "metadata": {
        "id": "aMfDhvfZkJzd"
      }
    },
    {
      "cell_type": "markdown",
      "source": [
        "**basic operation**\n"
      ],
      "metadata": {
        "id": "Z-M71ZzOkzhK"
      }
    },
    {
      "cell_type": "code",
      "source": [
        "# Create a tensor of values and add a number to it\n",
        "add = torch.rand(size= (4, 5))\n",
        "new = add + 10\n",
        "new"
      ],
      "metadata": {
        "id": "oiLfoAjPjlMX",
        "outputId": "73c1afb4-3364-48df-d139-63f986600d88",
        "colab": {
          "base_uri": "https://localhost:8080/"
        }
      },
      "execution_count": 71,
      "outputs": [
        {
          "output_type": "execute_result",
          "data": {
            "text/plain": [
              "tensor([[10.4715, 10.7255, 10.3047, 10.6696, 10.5735],\n",
              "        [10.3694, 10.0427, 10.9369, 10.1339, 10.0659],\n",
              "        [10.6852, 10.5874, 10.7367, 10.5096, 10.0758],\n",
              "        [10.6793, 10.2937, 10.9269, 10.7741, 10.1551]])"
            ]
          },
          "metadata": {},
          "execution_count": 71
        }
      ]
    },
    {
      "cell_type": "code",
      "source": [
        "mul = torch.rand(size = (4, 4))\n",
        "mult = mul * 10\n",
        "mult\n"
      ],
      "metadata": {
        "id": "GFqoKUc5lEVh",
        "outputId": "a2c3d68f-f8b5-4116-81fc-d6002617fdc3",
        "colab": {
          "base_uri": "https://localhost:8080/"
        }
      },
      "execution_count": 74,
      "outputs": [
        {
          "output_type": "execute_result",
          "data": {
            "text/plain": [
              "tensor([[5.3784, 6.2352, 1.2953, 4.5097],\n",
              "        [3.8999, 5.8255, 8.4137, 7.6375],\n",
              "        [5.0033, 0.6661, 8.3310, 0.6019],\n",
              "        [4.8399, 3.0271, 3.7664, 2.9585]])"
            ]
          },
          "metadata": {},
          "execution_count": 74
        }
      ]
    },
    {
      "cell_type": "code",
      "source": [
        "tensor = torch.tensor([1, 2, 3])\n",
        "tensor"
      ],
      "metadata": {
        "id": "xXWlHROmlQ-j",
        "outputId": "9093364d-d029-466d-af42-98561fa8b67f",
        "colab": {
          "base_uri": "https://localhost:8080/"
        }
      },
      "execution_count": 76,
      "outputs": [
        {
          "output_type": "execute_result",
          "data": {
            "text/plain": [
              "tensor([1, 2, 3])"
            ]
          },
          "metadata": {},
          "execution_count": 76
        }
      ]
    },
    {
      "cell_type": "code",
      "source": [
        "print(tensor, \"*\", tensor)\n",
        "print(\"equals\", tensor * tensor)\n"
      ],
      "metadata": {
        "id": "9-jgpE-1l-3k",
        "outputId": "3c057e7b-f693-45b7-f277-79a0433b2356",
        "colab": {
          "base_uri": "https://localhost:8080/"
        }
      },
      "execution_count": 77,
      "outputs": [
        {
          "output_type": "stream",
          "name": "stdout",
          "text": [
            "tensor([1, 2, 3]) * tensor([1, 2, 3])\n",
            "equals tensor([1, 4, 9])\n"
          ]
        }
      ]
    },
    {
      "cell_type": "code",
      "source": [],
      "metadata": {
        "id": "_x5QStRUmugh"
      },
      "execution_count": null,
      "outputs": []
    }
  ]
}