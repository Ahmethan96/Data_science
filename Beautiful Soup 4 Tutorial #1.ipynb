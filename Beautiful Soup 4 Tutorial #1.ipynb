{
  "cells": [
    {
      "cell_type": "markdown",
      "metadata": {
        "id": "view-in-github",
        "colab_type": "text"
      },
      "source": [
        "<a href=\"https://colab.research.google.com/github/Ahmethan96/Data_science/blob/main/Beautiful%20Soup%204%20Tutorial%20%231.ipynb\" target=\"_parent\"><img src=\"https://colab.research.google.com/assets/colab-badge.svg\" alt=\"Open In Colab\"/></a>"
      ]
    },
    {
      "cell_type": "markdown",
      "source": [
        "\n",
        "## **Beautiful Soup 4 Tutorial #1 - Web Scraping With Python**\n"
      ],
      "metadata": {
        "id": "F8n_ZARykuvG"
      }
    },
    {
      "cell_type": "code",
      "source": [
        "from bs4 import BeautifulSoup\n",
        "import requests"
      ],
      "metadata": {
        "id": "kIU5z_XIkbLH"
      },
      "execution_count": 1,
      "outputs": []
    },
    {
      "cell_type": "code",
      "source": [
        "url = \"https://www.newegg.ca/msi-geforce-rtx-4070-ti-rtx-4070-ti-gaming-x-trio-12g/p/N82E16814137771?Item=N82E16814137771\"\n",
        "result = requests.get(url)"
      ],
      "metadata": {
        "id": "oEIzuLbVlEhY"
      },
      "execution_count": 13,
      "outputs": []
    },
    {
      "cell_type": "code",
      "source": [
        "print(result.text)"
      ],
      "metadata": {
        "id": "70hbF6zfnktm"
      },
      "execution_count": null,
      "outputs": []
    },
    {
      "cell_type": "code",
      "source": [
        "doc = BeautifulSoup(result.text, \"html.parser\")"
      ],
      "metadata": {
        "id": "LrITnmLdlHmG"
      },
      "execution_count": 4,
      "outputs": []
    },
    {
      "cell_type": "code",
      "source": [
        "print(doc.prettify())"
      ],
      "metadata": {
        "colab": {
          "base_uri": "https://localhost:8080/"
        },
        "id": "d9c1vnH9lML2",
        "outputId": "ec00eca7-92a1-422c-88df-e0c380c5d3d3"
      },
      "execution_count": 6,
      "outputs": [
        {
          "output_type": "stream",
          "name": "stderr",
          "text": [
            "<ipython-input-6-bc46777ec5e4>:1: DeprecationWarning: The 'text' argument to find()-type methods is deprecated. Use 'string' instead.\n",
            "  prices = doc.find_all(text = \"$\")\n"
          ]
        }
      ]
    },
    {
      "cell_type": "code",
      "source": [
        "print(prices)"
      ],
      "metadata": {
        "colab": {
          "base_uri": "https://localhost:8080/"
        },
        "id": "85dLjsmblQhj",
        "outputId": "b27275c7-aba8-4dd6-d289-311256cf4487"
      },
      "execution_count": 7,
      "outputs": [
        {
          "output_type": "stream",
          "name": "stdout",
          "text": [
            "['$', '$', '$', '$']\n"
          ]
        }
      ]
    },
    {
      "cell_type": "code",
      "source": [
        "parent = prices[0].parent"
      ],
      "metadata": {
        "id": "FTO0oq_9lSKO"
      },
      "execution_count": 8,
      "outputs": []
    },
    {
      "cell_type": "code",
      "source": [
        "print(parent)"
      ],
      "metadata": {
        "colab": {
          "base_uri": "https://localhost:8080/"
        },
        "id": "JM0HYP0glTgU",
        "outputId": "4e77da61-b276-4f07-c417-c7699d8a8d7d"
      },
      "execution_count": 9,
      "outputs": [
        {
          "output_type": "stream",
          "name": "stdout",
          "text": [
            "<li class=\"price-current\"><span class=\"price-current-label\"></span>$<strong>1,199</strong><sup>.99</sup></li>\n"
          ]
        }
      ]
    },
    {
      "cell_type": "code",
      "source": [
        "strong = parent.find(\"strong\")"
      ],
      "metadata": {
        "id": "wYB4oncYlUiZ"
      },
      "execution_count": 10,
      "outputs": []
    },
    {
      "cell_type": "code",
      "source": [
        "print(strong.string) ## geting the price of url = \"https://www.newegg.ca/msi-geforce-rtx-4070-ti-rtx-4070-ti-gaming-x-trio-12g/p/N82E16814137771?Item=N82E16814137771\"\n",
        "\n"
      ],
      "metadata": {
        "colab": {
          "base_uri": "https://localhost:8080/"
        },
        "id": "_aSjjne0lWBV",
        "outputId": "7d0d87e9-af7b-4228-8947-a02f17b4ba4a"
      },
      "execution_count": 11,
      "outputs": [
        {
          "output_type": "stream",
          "name": "stdout",
          "text": [
            "1,199\n"
          ]
        }
      ]
    },
    {
      "cell_type": "code",
      "source": [],
      "metadata": {
        "id": "jCyYUU1ylXnn"
      },
      "execution_count": null,
      "outputs": []
    }
  ],
  "metadata": {
    "colab": {
      "name": "Colab Aboneliğinizden En İyi Şekilde Yararlanma",
      "provenance": [],
      "toc_visible": true,
      "include_colab_link": true
    },
    "kernelspec": {
      "display_name": "Python 3",
      "name": "python3"
    }
  },
  "nbformat": 4,
  "nbformat_minor": 0
}